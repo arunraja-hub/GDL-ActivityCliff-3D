{
 "cells": [
  {
   "cell_type": "markdown",
   "metadata": {
    "id": "6ponTMmSSEZs",
    "jp-MarkdownHeadingCollapsed": true,
    "tags": []
   },
   "source": [
    "# Import Packages"
   ]
  },
  {
   "cell_type": "code",
   "execution_count": 1,
   "metadata": {
    "colab": {
     "base_uri": "https://localhost:8080/",
     "height": 377
    },
    "id": "n2g6fdToSEZu",
    "outputId": "e11f26e1-058c-40f1-8c48-1f312ca96988"
   },
   "outputs": [],
   "source": [
    "# import packages\n",
    "\n",
    "# general tools\n",
    "import numpy as np\n",
    "import pandas as pd\n",
    "import matplotlib.pyplot as plt\n",
    "import seaborn as sns\n",
    "import time\n",
    "import math\n",
    "import warnings\n",
    "import json \n",
    "\n",
    "\n",
    "# RDKit\n",
    "from rdkit import Chem, RDLogger\n",
    "\n",
    "# scikit-learn\n",
    "from sklearn.ensemble import RandomForestRegressor\n",
    "from sklearn.neighbors import KNeighborsRegressor\n",
    "from sklearn.model_selection import RandomizedSearchCV"
   ]
  },
  {
   "cell_type": "code",
   "execution_count": 2,
   "metadata": {},
   "outputs": [],
   "source": [
    "# set global options\n",
    "\n",
    "RDLogger.DisableLog('rdApp.*')\n",
    "warnings.filterwarnings(\"ignore\")"
   ]
  },
  {
   "cell_type": "code",
   "execution_count": 3,
   "metadata": {
    "id": "DPFEM3G3nJvr"
   },
   "outputs": [],
   "source": [
    "# import functions written for this project\n",
    "from modules import *"
   ]
  },
  {
   "cell_type": "code",
   "execution_count": 4,
   "metadata": {},
   "outputs": [
    {
     "name": "stdout",
     "output_type": "stream",
     "text": [
      "Pytorch version =  1.10.2+cu113\n",
      "Pytorch Geometric version =  2.0.3\n",
      "CUDA version =  11.3\n",
      "CUDA available =  False\n",
      "Random Pytorch test tensor =  tensor([0.0609])\n"
     ]
    }
   ],
   "source": [
    "# import and check funtionality of pytorch / pytorch geometric\n",
    "\n",
    "import torch\n",
    "import torch_geometric\n",
    "\n",
    "print(\"Pytorch version = \", torch.__version__)\n",
    "print(\"Pytorch Geometric version = \", torch_geometric.__version__)\n",
    "print(\"CUDA version = \", torch.version.cuda)\n",
    "print(\"CUDA available = \", torch.cuda.is_available())\n",
    "print(\"Random Pytorch test tensor = \", torch.rand(1))"
   ]
  },
  {
   "cell_type": "markdown",
   "metadata": {
    "id": "PqtoXSSPnJvy",
    "jp-MarkdownHeadingCollapsed": true,
    "tags": []
   },
   "source": [
    "# Load and Prepare Data"
   ]
  },
  {
   "cell_type": "code",
   "execution_count": 5,
   "metadata": {},
   "outputs": [],
   "source": [
    "# create dictionary to collect experimental settings\n",
    "settings_dict = {}"
   ]
  },
  {
   "cell_type": "code",
   "execution_count": 6,
   "metadata": {},
   "outputs": [],
   "source": [
    "# choose ChEMBL dopamine D2 data set\n",
    "\n",
    "datafolder_filepath = \"data/chembl_dopamine_d2/\"\n",
    "settings_dict[\"target_name\"] = \"chembl_dopamine_d2\"\n",
    "activity_type = \"Ki [nM]\""
   ]
  },
  {
   "cell_type": "code",
   "execution_count": 7,
   "metadata": {},
   "outputs": [],
   "source": [
    "# or choose ChEMBL factor Xa data set\n",
    "\n",
    "datafolder_filepath = \"data/chembl_factor_xa/\"\n",
    "settings_dict[\"target_name\"] = \"chembl_factor_xa\"\n",
    "activity_type = \"Ki [nM]\""
   ]
  },
  {
   "cell_type": "code",
   "execution_count": 8,
   "metadata": {},
   "outputs": [],
   "source": [
    "# or choose PostEra SARS-CoV 2 Mpro data set\n",
    "\n",
    "datafolder_filepath = \"data/postera_sars_cov_2_mpro/\"\n",
    "settings_dict[\"target_name\"] = \"postera_sars_cov_2_mpro\"\n",
    "activity_type = \"f_avg_IC50 [uM]\""
   ]
  },
  {
   "cell_type": "code",
   "execution_count": 9,
   "metadata": {},
   "outputs": [
    {
     "data": {
      "text/html": [
       "<div>\n",
       "<style scoped>\n",
       "    .dataframe tbody tr th:only-of-type {\n",
       "        vertical-align: middle;\n",
       "    }\n",
       "\n",
       "    .dataframe tbody tr th {\n",
       "        vertical-align: top;\n",
       "    }\n",
       "\n",
       "    .dataframe thead th {\n",
       "        text-align: right;\n",
       "    }\n",
       "</style>\n",
       "<table border=\"1\" class=\"dataframe\">\n",
       "  <thead>\n",
       "    <tr style=\"text-align: right;\">\n",
       "      <th></th>\n",
       "      <th>SMILES</th>\n",
       "      <th>f_avg_IC50 [uM]</th>\n",
       "    </tr>\n",
       "  </thead>\n",
       "  <tbody>\n",
       "    <tr>\n",
       "      <th>0</th>\n",
       "      <td>CCNC(=O)CN1CC2(CCN(c3cncc4ccccc34)C2=O)c2cc(Cl...</td>\n",
       "      <td>0.275118</td>\n",
       "    </tr>\n",
       "    <tr>\n",
       "      <th>1</th>\n",
       "      <td>O=C(CN1CC2(CCN(c3cncc4ccccc34)C2=O)c2cc(Cl)ccc...</td>\n",
       "      <td>0.202767</td>\n",
       "    </tr>\n",
       "    <tr>\n",
       "      <th>2</th>\n",
       "      <td>CNC(=O)C1(N2C[C@]3(CCN(c4cncc5ccccc45)C3=O)c3c...</td>\n",
       "      <td>55.453947</td>\n",
       "    </tr>\n",
       "    <tr>\n",
       "      <th>3</th>\n",
       "      <td>CNC(=O)C1(N2C[C@@]3(CCN(c4cncc5ccccc45)C3=O)c3...</td>\n",
       "      <td>0.050000</td>\n",
       "    </tr>\n",
       "    <tr>\n",
       "      <th>4</th>\n",
       "      <td>CNC(=O)CN1C[C@@]2(CCN(c3cncc4ccccc34)C2=O)c2cc...</td>\n",
       "      <td>0.052757</td>\n",
       "    </tr>\n",
       "    <tr>\n",
       "      <th>...</th>\n",
       "      <td>...</td>\n",
       "      <td>...</td>\n",
       "    </tr>\n",
       "    <tr>\n",
       "      <th>1919</th>\n",
       "      <td>N#Cc1cc(Cl)cc(NC(=O)Nc2cccnc2)c1</td>\n",
       "      <td>99.010000</td>\n",
       "    </tr>\n",
       "    <tr>\n",
       "      <th>1920</th>\n",
       "      <td>N#Cc1cccc(NC(=O)Nc2cncc(N)c2)c1</td>\n",
       "      <td>54.272964</td>\n",
       "    </tr>\n",
       "    <tr>\n",
       "      <th>1921</th>\n",
       "      <td>N#Cc1cccc(NC(=O)Nc2c[nH]c3ncccc23)c1</td>\n",
       "      <td>63.554925</td>\n",
       "    </tr>\n",
       "    <tr>\n",
       "      <th>1922</th>\n",
       "      <td>N#Cc1cccc(NC(=O)Cc2cncc3ccccc23)c1</td>\n",
       "      <td>26.719515</td>\n",
       "    </tr>\n",
       "    <tr>\n",
       "      <th>1923</th>\n",
       "      <td>O=C(Cc1cncc2ccccc12)Nc1ccccc1</td>\n",
       "      <td>57.590417</td>\n",
       "    </tr>\n",
       "  </tbody>\n",
       "</table>\n",
       "<p>1924 rows × 2 columns</p>\n",
       "</div>"
      ],
      "text/plain": [
       "                                                 SMILES  f_avg_IC50 [uM]\n",
       "0     CCNC(=O)CN1CC2(CCN(c3cncc4ccccc34)C2=O)c2cc(Cl...         0.275118\n",
       "1     O=C(CN1CC2(CCN(c3cncc4ccccc34)C2=O)c2cc(Cl)ccc...         0.202767\n",
       "2     CNC(=O)C1(N2C[C@]3(CCN(c4cncc5ccccc45)C3=O)c3c...        55.453947\n",
       "3     CNC(=O)C1(N2C[C@@]3(CCN(c4cncc5ccccc45)C3=O)c3...         0.050000\n",
       "4     CNC(=O)CN1C[C@@]2(CCN(c3cncc4ccccc34)C2=O)c2cc...         0.052757\n",
       "...                                                 ...              ...\n",
       "1919                   N#Cc1cc(Cl)cc(NC(=O)Nc2cccnc2)c1        99.010000\n",
       "1920                    N#Cc1cccc(NC(=O)Nc2cncc(N)c2)c1        54.272964\n",
       "1921               N#Cc1cccc(NC(=O)Nc2c[nH]c3ncccc23)c1        63.554925\n",
       "1922                 N#Cc1cccc(NC(=O)Cc2cncc3ccccc23)c1        26.719515\n",
       "1923                      O=C(Cc1cncc2ccccc12)Nc1ccccc1        57.590417\n",
       "\n",
       "[1924 rows x 2 columns]"
      ]
     },
     "metadata": {},
     "output_type": "display_data"
    }
   ],
   "source": [
    "# load clean data\n",
    "#display data from postera_sars_cov_2_mpro\n",
    "\n",
    "dataframe = pd.read_csv(datafolder_filepath + \"molecule_data_clean.csv\", sep = \",\")\n",
    "settings_dict[\"n_molecules\"] = len(dataframe)\n",
    "display(dataframe)"
   ]
  },
  {
   "cell_type": "code",
   "execution_count": 10,
   "metadata": {},
   "outputs": [
    {
     "name": "stdout",
     "output_type": "stream",
     "text": [
      "Shape of x_smiles =  (1924,)\n",
      "CCNC(=O)CN1CC2(CCN(c3cncc4ccccc34)C2=O)c2cc(Cl)ccc2S1(=O)=O\n"
     ]
    },
    {
     "data": {
      "image/png": "[encoded data removed]",
      "text/plain": [
       "<rdkit.Chem.rdchem.Mol at 0x7efcae525990>"
      ]
     },
     "metadata": {},
     "output_type": "display_data"
    }
   ],
   "source": [
    "# construct array with SMILES strings\n",
    "\n",
    "x_smiles = dataframe[\"SMILES\"].values\n",
    "\n",
    "print(\"Shape of x_smiles = \", x_smiles.shape)\n",
    "print(x_smiles[0])\n",
    "display(Chem.MolFromSmiles(x_smiles[0]))"
   ]
  },
  {
   "cell_type": "code",
   "execution_count": 11,
   "metadata": {
    "colab": {
     "base_uri": "https://localhost:8080/",
     "height": 90
    },
    "id": "ZGTsCwA9nJwK",
    "outputId": "d9c43474-c7b7-4622-da65-6ebe36c9c3a1"
   },
   "outputs": [
    {
     "name": "stdout",
     "output_type": "stream",
     "text": [
      "Mean value (y) =  -0.9180193183732708\n",
      "Standard deviation (y) =  1.04434733236911\n",
      "Maximum value (y) =  2.573819647563703\n",
      "Minimum value (y) =  -2.296665190261531\n",
      "Shape (y) =  (1924,)\n"
     ]
    },
    {
     "data": {
      "image/png": "[encoded data removed]",
      "text/plain": [
       "<Figure size 640x480 with 1 Axes>"
      ]
     },
     "metadata": {},
     "output_type": "display_data"
    }
   ],
   "source": [
    "# construct array with activity labels y (via applying the negative decadic logarithm to the experimental activity measurements)\n",
    "\n",
    "y = -np.log10(dataframe[activity_type].values.astype(float))\n",
    "\n",
    "print(\"Mean value (y) = \", np.mean(y))\n",
    "print(\"Standard deviation (y) = \", np.std(y))\n",
    "print(\"Maximum value (y) = \", np.amax(y))\n",
    "print(\"Minimum value (y) = \", np.amin(y))\n",
    "print(\"Shape (y) = \", y.shape)\n",
    "plt.hist(y)\n",
    "plt.show()"
   ]
  },
  {
   "cell_type": "code",
   "execution_count": 12,
   "metadata": {
    "id": "iMep582hnJwL"
   },
   "outputs": [],
   "source": [
    "# create dictionary which maps SMILES strings to their activity labels\n",
    "\n",
    "x_smiles_to_y_dict = dict(list(zip(x_smiles, y)))\n",
    "# print(x_smiles_to_y_dict)"
   ]
  },
  {
   "cell_type": "code",
   "execution_count": 13,
   "metadata": {},
   "outputs": [
    {
     "name": "stdout",
     "output_type": "stream",
     "text": [
      "Number of matched molecular pairs (MMPs) =  12594\n"
     ]
    },
    {
     "data": {
      "text/html": [
       "<div>\n",
       "<style scoped>\n",
       "    .dataframe tbody tr th:only-of-type {\n",
       "        vertical-align: middle;\n",
       "    }\n",
       "\n",
       "    .dataframe tbody tr th {\n",
       "        vertical-align: top;\n",
       "    }\n",
       "\n",
       "    .dataframe thead th {\n",
       "        text-align: right;\n",
       "    }\n",
       "</style>\n",
       "<table border=\"1\" class=\"dataframe\">\n",
       "  <thead>\n",
       "    <tr style=\"text-align: right;\">\n",
       "      <th></th>\n",
       "      <th>smiles_1</th>\n",
       "      <th>smiles_2</th>\n",
       "      <th>transformation</th>\n",
       "      <th>constant_part</th>\n",
       "    </tr>\n",
       "  </thead>\n",
       "  <tbody>\n",
       "    <tr>\n",
       "      <th>0</th>\n",
       "      <td>COc1cc(Br)ccc1Nc1cc(Cl)cc(CC(=O)Nc2cncc3ccccc2...</td>\n",
       "      <td>COc1ncc(Br)cc1Nc1cc(Cl)cc(CC(=O)Nc2cncc3ccccc2...</td>\n",
       "      <td>[*:1]c1ccc([*:2])c([*:3])c1&gt;&gt;[*:1]c1cnc([*:3])...</td>\n",
       "      <td>[*:1]Br.[*:2]Nc1cc(Cl)cc(CC(=O)Nc2cncc3ccccc23...</td>\n",
       "    </tr>\n",
       "    <tr>\n",
       "      <th>1</th>\n",
       "      <td>O=C(Cc1cc(Cl)cc(NCc2ccc(Br)cc2)c1)Nc1cncc2ccccc12</td>\n",
       "      <td>COc1cc(Br)ccc1Nc1cc(Cl)cc(CC(=O)Nc2cncc3ccccc2...</td>\n",
       "      <td>[*:1]NCc1ccc([*:2])cc1&gt;&gt;[*:1]Nc1ccc([*:2])cc1OC</td>\n",
       "      <td>[*:2]Br.[*:1]c1cc(Cl)cc(CC(=O)Nc2cncc3ccccc23)c1</td>\n",
       "    </tr>\n",
       "    <tr>\n",
       "      <th>2</th>\n",
       "      <td>O=C(Cc1cc(Cl)cc(NCc2ccc(Br)cc2)c1)Nc1cncc2ccccc12</td>\n",
       "      <td>COc1ncc(Br)cc1Nc1cc(Cl)cc(CC(=O)Nc2cncc3ccccc2...</td>\n",
       "      <td>[*:1]NCc1ccc([*:2])cc1&gt;&gt;[*:1]Nc1cc([*:2])cnc1OC</td>\n",
       "      <td>[*:2]Br.[*:1]c1cc(Cl)cc(CC(=O)Nc2cncc3ccccc23)c1</td>\n",
       "    </tr>\n",
       "  </tbody>\n",
       "</table>\n",
       "</div>"
      ],
      "text/plain": [
       "                                            smiles_1  \\\n",
       "0  COc1cc(Br)ccc1Nc1cc(Cl)cc(CC(=O)Nc2cncc3ccccc2...   \n",
       "1  O=C(Cc1cc(Cl)cc(NCc2ccc(Br)cc2)c1)Nc1cncc2ccccc12   \n",
       "2  O=C(Cc1cc(Cl)cc(NCc2ccc(Br)cc2)c1)Nc1cncc2ccccc12   \n",
       "\n",
       "                                            smiles_2  \\\n",
       "0  COc1ncc(Br)cc1Nc1cc(Cl)cc(CC(=O)Nc2cncc3ccccc2...   \n",
       "1  COc1cc(Br)ccc1Nc1cc(Cl)cc(CC(=O)Nc2cncc3ccccc2...   \n",
       "2  COc1ncc(Br)cc1Nc1cc(Cl)cc(CC(=O)Nc2cncc3ccccc2...   \n",
       "\n",
       "                                      transformation  \\\n",
       "0  [*:1]c1ccc([*:2])c([*:3])c1>>[*:1]c1cnc([*:3])...   \n",
       "1    [*:1]NCc1ccc([*:2])cc1>>[*:1]Nc1ccc([*:2])cc1OC   \n",
       "2    [*:1]NCc1ccc([*:2])cc1>>[*:1]Nc1cc([*:2])cnc1OC   \n",
       "\n",
       "                                       constant_part  \n",
       "0  [*:1]Br.[*:2]Nc1cc(Cl)cc(CC(=O)Nc2cncc3ccccc23...  \n",
       "1   [*:2]Br.[*:1]c1cc(Cl)cc(CC(=O)Nc2cncc3ccccc23)c1  \n",
       "2   [*:2]Br.[*:1]c1cc(Cl)cc(CC(=O)Nc2cncc3ccccc23)c1  "
      ]
     },
     "metadata": {},
     "output_type": "display_data"
    }
   ],
   "source": [
    "# import matched molecular pair (MMP) dataframe\n",
    "\n",
    "dataframe_mmps = pd.read_csv(datafolder_filepath + \"MMP_data_clean.csv\",\n",
    "                             sep = \",\",\n",
    "                             header = 0)\n",
    "\n",
    "print(\"Number of matched molecular pairs (MMPs) = \", len(dataframe_mmps))\n",
    "display(dataframe_mmps.head(n = 3))"
   ]
  },
  {
   "cell_type": "code",
   "execution_count": 14,
   "metadata": {},
   "outputs": [
    {
     "name": "stdout",
     "output_type": "stream",
     "text": [
      "Shape of X_smiles_mmps =  (10832, 2)\n",
      "Shape of x_smiles_mmp_cores =  (10832,)\n",
      "Number of distinct cores =  741 \n",
      "\n",
      "Shape of y_mmps =  (10832,)\n",
      "Number of molecules =  1924\n",
      "Number of MMPs = non-ACs + half-cliffs + ACs =  12594\n",
      "Number of non-ACs with activity difference less than 1 order of magnitude =  10311\n",
      "Number of deleted half-cliffs with activity difference between 1 and 2 orders of magnitude =  1762\n",
      "Number of ACs with property difference larger than 2 orders of magnitude =  521\n",
      "Ratio of non-ACs to ACs =  19.791 : 1\n"
     ]
    }
   ],
   "source": [
    "# construct MMP array and binary MMP labels for AC-prediction (we delete half-cliffs)\n",
    "\n",
    "# create array with all MMPs (including half-cliffs)\n",
    "X_smiles_mmps = dataframe_mmps.values[:,0:2]\n",
    "\n",
    "# create array with all MMP cores\n",
    "x_smiles_mmp_cores = dataframe_mmps.values[:,3]\n",
    "\n",
    "# label ACs with 1 and other MMPs (= half-cliffs and non-ACs) with 0\n",
    "y_mmps = np.array([int(abs(x_smiles_to_y_dict[smiles_1] - x_smiles_to_y_dict[smiles_2]) >= 2) \n",
    "                   for [smiles_1, smiles_2] in X_smiles_mmps])\n",
    "\n",
    "# determine indices for MMPs which are half-cliffs (these should be deleted)\n",
    "y_mmps_half_cliffs = np.array([int(1 < abs(x_smiles_to_y_dict[smiles_1] - x_smiles_to_y_dict[smiles_2]) < 2) \n",
    "                               for [smiles_1, smiles_2] in X_smiles_mmps])\n",
    "ind_delete = np.ndarray.flatten(np.argwhere(y_mmps_half_cliffs > 0))\n",
    "\n",
    "# delete MMPs which are half-cliffs\n",
    "X_smiles_mmps = np.delete(X_smiles_mmps, ind_delete, axis = 0)\n",
    "settings_dict[\"n_mmps\"] = len(X_smiles_mmps)\n",
    "x_smiles_mmp_cores = np.delete(x_smiles_mmp_cores, ind_delete, axis = 0)\n",
    "y_mmps = np.delete(y_mmps, ind_delete)\n",
    "\n",
    "print(\"Shape of X_smiles_mmps = \", X_smiles_mmps.shape)\n",
    "print(\"Shape of x_smiles_mmp_cores = \", x_smiles_mmp_cores.shape)\n",
    "print(\"Number of distinct cores = \", len(set(x_smiles_mmp_cores)), \"\\n\")\n",
    "print(\"Shape of y_mmps = \", y_mmps.shape)\n",
    "print(\"Number of molecules = \", settings_dict[\"n_molecules\"])\n",
    "print(\"Number of MMPs = non-ACs + half-cliffs + ACs = \", len(dataframe_mmps))\n",
    "print(\"Number of non-ACs with activity difference less than 1 order of magnitude = \", np.sum(1 - y_mmps))\n",
    "print(\"Number of deleted half-cliffs with activity difference between 1 and 2 orders of magnitude = \", len(ind_delete))\n",
    "print(\"Number of ACs with property difference larger than 2 orders of magnitude = \", np.sum(y_mmps))\n",
    "print(\"Ratio of non-ACs to ACs = \", np.round(np.sum(1 - y_mmps)/np.sum(y_mmps), 3), \": 1\")"
   ]
  },
  {
   "cell_type": "code",
   "execution_count": 15,
   "metadata": {
    "id": "E3tpaPgInJwO",
    "outputId": "c54287fd-de4e-4cc5-b004-7cd22956c28f"
   },
   "outputs": [
    {
     "name": "stdout",
     "output_type": "stream",
     "text": [
      "Shape of Y_mmps_vals =  (10832, 2)\n"
     ]
    }
   ],
   "source": [
    "# construct array with activity values for mmps\n",
    "\n",
    "Y_mmps_vals = np.array([[x_smiles_to_y_dict[smiles_1], x_smiles_to_y_dict[smiles_2]] for [smiles_1, smiles_2] in X_smiles_mmps])\n",
    "print(\"Shape of Y_mmps_vals = \", Y_mmps_vals.shape)\n"
   ]
  },
  {
   "cell_type": "code",
   "execution_count": 16,
   "metadata": {
    "id": "AWXtiK3LnJwP"
   },
   "outputs": [],
   "source": [
    "# randomly flip or maintain direction of all smiles pairs in X_smiles_mmps and Y_mmps_vals to make potency directionality classification balanced\n",
    "\n",
    "np.random.seed(42)\n",
    "\n",
    "for k in range(len(X_smiles_mmps)):\n",
    "    if np.random.uniform(0,1) > 0.5:\n",
    "        \n",
    "        X_smiles_mmps[k, 0:2] = np.flip(X_smiles_mmps[k, 0:2])\n",
    "        Y_mmps_vals[k, 0:2] = np.flip(Y_mmps_vals[k, 0:2])    "
   ]
  },
  {
   "cell_type": "code",
   "execution_count": 17,
   "metadata": {
    "id": "S0PaecYGnJwP",
    "outputId": "894f2407-c58d-449c-b283-6a2af099426e"
   },
   "outputs": [
    {
     "name": "stdout",
     "output_type": "stream",
     "text": [
      "Shape of y_mmps_pd =  (10832,)\n",
      "Number of 1s =  4704\n"
     ]
    }
   ],
   "source": [
    "# construct potency directionality target variable (0: smiles_1 activity is larger than or equal to smiles_2 activity, 1: smiles_1 activity is smaller than smiles_2 activity)\n",
    "\n",
    "y_mmps_pd = np.array([int(val_1 < val_2) for [val_1, val_2] in Y_mmps_vals])\n",
    "\n",
    "print(\"Shape of y_mmps_pd = \", y_mmps_pd.shape)\n",
    "print(\"Number of 1s = \", np.sum(y_mmps_pd))"
   ]
  },
  {
   "cell_type": "markdown",
   "metadata": {
    "id": "_uScaKIFnJwZ",
    "jp-MarkdownHeadingCollapsed": true,
    "tags": []
   },
   "source": [
    "# Prepare Data Split for Individual Compounds and MMPs"
   ]
  },
  {
   "cell_type": "code",
   "execution_count": 18,
   "metadata": {
    "id": "DAqvC3EknJwZ",
    "tags": []
   },
   "outputs": [],
   "source": [
    "# create data split dictionary for k-fold cross validation repeated with m random seeds\n",
    "\n",
    "settings_dict[\"k_splits\"] = 2\n",
    "settings_dict[\"m_reps\"] = 3\n",
    "settings_dict[\"random_state_cv\"] = 42\n",
    "\n",
    "data_split_dictionary = create_data_split_dictionary_for_mols_and_mmps(x_smiles,\n",
    "                                                                       X_smiles_mmps,\n",
    "                                                                       x_smiles_mmp_cores,\n",
    "                                                                       k_splits = settings_dict[\"k_splits\"],\n",
    "                                                                       m_reps = settings_dict[\"m_reps\"],\n",
    "                                                                       random_state_cv = settings_dict[\"random_state_cv\"])"
   ]
  },
  {
   "cell_type": "code",
   "execution_count": 19,
   "metadata": {},
   "outputs": [
    {
     "data": {
      "text/html": [
       "<div>\n",
       "<style scoped>\n",
       "    .dataframe tbody tr th:only-of-type {\n",
       "        vertical-align: middle;\n",
       "    }\n",
       "\n",
       "    .dataframe tbody tr th {\n",
       "        vertical-align: top;\n",
       "    }\n",
       "\n",
       "    .dataframe thead th {\n",
       "        text-align: right;\n",
       "    }\n",
       "</style>\n",
       "<table border=\"1\" class=\"dataframe\">\n",
       "  <thead>\n",
       "    <tr style=\"text-align: right;\">\n",
       "      <th></th>\n",
       "      <th>m</th>\n",
       "      <th>k</th>\n",
       "      <th>D_train</th>\n",
       "      <th>D_test</th>\n",
       "      <th>M_train_pos</th>\n",
       "      <th>M_train_neg</th>\n",
       "      <th>M_inter_pos</th>\n",
       "      <th>M_inter_neg</th>\n",
       "      <th>M_test_pos</th>\n",
       "      <th>M_test_neg</th>\n",
       "      <th>M_cores_pos</th>\n",
       "      <th>M_cores_neg</th>\n",
       "    </tr>\n",
       "  </thead>\n",
       "  <tbody>\n",
       "    <tr>\n",
       "      <th>*</th>\n",
       "      <td>0</td>\n",
       "      <td>0</td>\n",
       "      <td>962</td>\n",
       "      <td>962</td>\n",
       "      <td>72</td>\n",
       "      <td>2383</td>\n",
       "      <td>270</td>\n",
       "      <td>5143</td>\n",
       "      <td>179</td>\n",
       "      <td>2785</td>\n",
       "      <td>10</td>\n",
       "      <td>163</td>\n",
       "    </tr>\n",
       "    <tr>\n",
       "      <th>*</th>\n",
       "      <td>0</td>\n",
       "      <td>1</td>\n",
       "      <td>962</td>\n",
       "      <td>962</td>\n",
       "      <td>179</td>\n",
       "      <td>2785</td>\n",
       "      <td>270</td>\n",
       "      <td>5143</td>\n",
       "      <td>72</td>\n",
       "      <td>2383</td>\n",
       "      <td>14</td>\n",
       "      <td>137</td>\n",
       "    </tr>\n",
       "    <tr>\n",
       "      <th>*</th>\n",
       "      <td>1</td>\n",
       "      <td>0</td>\n",
       "      <td>962</td>\n",
       "      <td>962</td>\n",
       "      <td>140</td>\n",
       "      <td>2772</td>\n",
       "      <td>270</td>\n",
       "      <td>5209</td>\n",
       "      <td>111</td>\n",
       "      <td>2330</td>\n",
       "      <td>5</td>\n",
       "      <td>190</td>\n",
       "    </tr>\n",
       "    <tr>\n",
       "      <th>*</th>\n",
       "      <td>1</td>\n",
       "      <td>1</td>\n",
       "      <td>962</td>\n",
       "      <td>962</td>\n",
       "      <td>111</td>\n",
       "      <td>2330</td>\n",
       "      <td>270</td>\n",
       "      <td>5209</td>\n",
       "      <td>140</td>\n",
       "      <td>2772</td>\n",
       "      <td>3</td>\n",
       "      <td>170</td>\n",
       "    </tr>\n",
       "    <tr>\n",
       "      <th>*</th>\n",
       "      <td>2</td>\n",
       "      <td>0</td>\n",
       "      <td>962</td>\n",
       "      <td>962</td>\n",
       "      <td>153</td>\n",
       "      <td>2618</td>\n",
       "      <td>258</td>\n",
       "      <td>5095</td>\n",
       "      <td>110</td>\n",
       "      <td>2598</td>\n",
       "      <td>11</td>\n",
       "      <td>195</td>\n",
       "    </tr>\n",
       "    <tr>\n",
       "      <th>*</th>\n",
       "      <td>2</td>\n",
       "      <td>1</td>\n",
       "      <td>962</td>\n",
       "      <td>962</td>\n",
       "      <td>110</td>\n",
       "      <td>2598</td>\n",
       "      <td>258</td>\n",
       "      <td>5095</td>\n",
       "      <td>153</td>\n",
       "      <td>2618</td>\n",
       "      <td>11</td>\n",
       "      <td>198</td>\n",
       "    </tr>\n",
       "    <tr>\n",
       "      <th>Avg</th>\n",
       "      <td>*</td>\n",
       "      <td>*</td>\n",
       "      <td>962.0</td>\n",
       "      <td>962.0</td>\n",
       "      <td>127.5</td>\n",
       "      <td>2581.0</td>\n",
       "      <td>266.0</td>\n",
       "      <td>5149.0</td>\n",
       "      <td>127.5</td>\n",
       "      <td>2581.0</td>\n",
       "      <td>9.0</td>\n",
       "      <td>175.5</td>\n",
       "    </tr>\n",
       "  </tbody>\n",
       "</table>\n",
       "</div>"
      ],
      "text/plain": [
       "     m  k D_train D_test M_train_pos M_train_neg M_inter_pos M_inter_neg  \\\n",
       "*    0  0     962    962          72        2383         270        5143   \n",
       "*    0  1     962    962         179        2785         270        5143   \n",
       "*    1  0     962    962         140        2772         270        5209   \n",
       "*    1  1     962    962         111        2330         270        5209   \n",
       "*    2  0     962    962         153        2618         258        5095   \n",
       "*    2  1     962    962         110        2598         258        5095   \n",
       "Avg  *  *   962.0  962.0       127.5      2581.0       266.0      5149.0   \n",
       "\n",
       "    M_test_pos M_test_neg M_cores_pos M_cores_neg  \n",
       "*          179       2785          10         163  \n",
       "*           72       2383          14         137  \n",
       "*          111       2330           5         190  \n",
       "*          140       2772           3         170  \n",
       "*          110       2598          11         195  \n",
       "*          153       2618          11         198  \n",
       "Avg      127.5     2581.0         9.0       175.5  "
      ]
     },
     "metadata": {},
     "output_type": "display_data"
    }
   ],
   "source": [
    "# inspect high-level contents of data split dictionary\n",
    "\n",
    "inspect_data_split_dictionary(data_split_dictionary, y_mmps);"
   ]
  },
  {
   "cell_type": "markdown",
   "metadata": {
    "id": "zdqcFmuknJwZ",
    "jp-MarkdownHeadingCollapsed": true,
    "tags": []
   },
   "source": [
    "# Generate Molecular Representations"
   ]
  },
  {
   "cell_type": "markdown",
   "metadata": {
    "jp-MarkdownHeadingCollapsed": true,
    "tags": []
   },
   "source": [
    "## ECFPs"
   ]
  },
  {
   "cell_type": "code",
   "execution_count": 20,
   "metadata": {},
   "outputs": [],
   "source": [
    "# #save/load x_smiles_to_fp_dict to txt file\n",
    "# import json \n",
    "# with open('x_smiles_to_fp_dict.txt', 'w') as file:\n",
    "#      file.write(json.dumps(x_smiles_to_fp_dict))"
   ]
  },
  {
   "cell_type": "code",
   "execution_count": 21,
   "metadata": {},
   "outputs": [],
   "source": [
    "# set ECFP hyperparameters\n",
    "settings_dict[\"radius\"] = 2\n",
    "settings_dict[\"bitstring_length\"] = 2**11\n",
    "settings_dict[\"use_features\"] = False\n",
    "settings_dict[\"use_chirality\"] = True\n",
    "\n",
    "# create dictionary that maps SMILES strings to ECFPs\n",
    "x_fp = {}\n",
    "\n",
    "for smiles in x_smiles:\n",
    "\n",
    "    x_fp.update({smiles : circular_fps_from_smiles(smiles,\n",
    "                                         radius = settings_dict[\"radius\"],\n",
    "                                         bitstring_length = settings_dict[\"bitstring_length\"],\n",
    "                                         use_features = settings_dict[\"use_features\"],\n",
    "                                         use_chirality = settings_dict[\"use_chirality\"]).tolist()})\n",
    "with open('smiles_fp_dict.txt', 'w') as file:\n",
    "    file.write(json.dumps(x_fp))\n",
    "\n",
    "x_smiles_to_fp_dict = x_fp\n",
    "# dict(list(zip(x_smiles, x_fp)))"
   ]
  },
  {
   "cell_type": "code",
   "execution_count": 22,
   "metadata": {},
   "outputs": [
    {
     "name": "stderr",
     "output_type": "stream",
     "text": [
      "2023-04-04 14:55:09,516|INFO|Generating conformers for placeholder_name.\n",
      "2023-04-04 14:55:16,444|INFO|Generated 1 conformers for placeholder_name.\n",
      "2023-04-04 14:55:16,448|INFO|Generating fingerprints for placeholder_name.\n",
      "2023-04-04 14:55:16,652|INFO|Generated 1 fingerprints for placeholder_name.\n",
      "2023-04-04 14:55:16,658|INFO|Generating conformers for placeholder_name.\n",
      "2023-04-04 14:55:23,065|INFO|Generated 1 conformers for placeholder_name.\n",
      "2023-04-04 14:55:23,069|INFO|Generating fingerprints for placeholder_name.\n",
      "2023-04-04 14:55:23,260|INFO|Generated 1 fingerprints for placeholder_name.\n",
      "2023-04-04 14:55:23,265|INFO|Generating conformers for placeholder_name.\n",
      "2023-04-04 14:55:31,215|INFO|Generated 1 conformers for placeholder_name.\n",
      "2023-04-04 14:55:31,218|INFO|Generating fingerprints for placeholder_name.\n",
      "2023-04-04 14:55:31,401|INFO|Generated 1 fingerprints for placeholder_name.\n",
      "2023-04-04 14:55:31,407|INFO|Generating conformers for placeholder_name.\n",
      "2023-04-04 14:55:39,176|INFO|Generated 1 conformers for placeholder_name.\n",
      "2023-04-04 14:55:39,178|INFO|Generating fingerprints for placeholder_name.\n",
      "2023-04-04 14:55:39,359|INFO|Generated 1 fingerprints for placeholder_name.\n",
      "2023-04-04 14:55:39,365|INFO|Generating conformers for placeholder_name.\n",
      "2023-04-04 14:55:44,902|INFO|Generated 1 conformers for placeholder_name.\n",
      "2023-04-04 14:55:44,905|INFO|Generating fingerprints for placeholder_name.\n",
      "2023-04-04 14:55:45,077|INFO|Generated 1 fingerprints for placeholder_name.\n",
      "2023-04-04 14:55:45,082|INFO|Generating conformers for placeholder_name.\n",
      "2023-04-04 14:55:50,712|INFO|Generated 1 conformers for placeholder_name.\n",
      "2023-04-04 14:55:50,715|INFO|Generating fingerprints for placeholder_name.\n",
      "2023-04-04 14:55:50,894|INFO|Generated 1 fingerprints for placeholder_name.\n",
      "2023-04-04 14:55:50,900|INFO|Generating conformers for placeholder_name.\n",
      "2023-04-04 14:55:58,956|INFO|Generated 1 conformers for placeholder_name.\n",
      "2023-04-04 14:55:58,959|INFO|Generating fingerprints for placeholder_name.\n",
      "2023-04-04 14:55:59,154|INFO|Generated 1 fingerprints for placeholder_name.\n",
      "2023-04-04 14:55:59,159|INFO|Generating conformers for placeholder_name.\n",
      "2023-04-04 14:56:05,312|INFO|Generated 1 conformers for placeholder_name.\n",
      "2023-04-04 14:56:05,313|INFO|Generating fingerprints for placeholder_name.\n",
      "2023-04-04 14:56:05,505|INFO|Generated 1 fingerprints for placeholder_name.\n",
      "2023-04-04 14:56:05,511|INFO|Generating conformers for placeholder_name.\n",
      "2023-04-04 14:56:11,851|INFO|Generated 1 conformers for placeholder_name.\n",
      "2023-04-04 14:56:11,852|INFO|Generating fingerprints for placeholder_name.\n",
      "2023-04-04 14:56:12,053|INFO|Generated 1 fingerprints for placeholder_name.\n",
      "2023-04-04 14:56:12,058|INFO|Generating conformers for placeholder_name.\n",
      "2023-04-04 14:56:19,644|INFO|Generated 1 conformers for placeholder_name.\n",
      "2023-04-04 14:56:19,647|INFO|Generating fingerprints for placeholder_name.\n",
      "2023-04-04 14:56:19,842|INFO|Generated 1 fingerprints for placeholder_name.\n",
      "2023-04-04 14:56:19,848|INFO|Generating conformers for placeholder_name.\n",
      "2023-04-04 14:56:31,238|INFO|Generated 1 conformers for placeholder_name.\n",
      "2023-04-04 14:56:31,240|INFO|Generating fingerprints for placeholder_name.\n",
      "2023-04-04 14:56:31,437|INFO|Generated 1 fingerprints for placeholder_name.\n",
      "2023-04-04 14:56:31,443|INFO|Generating conformers for placeholder_name.\n",
      "2023-04-04 14:56:37,501|INFO|Generated 1 conformers for placeholder_name.\n",
      "2023-04-04 14:56:37,504|INFO|Generating fingerprints for placeholder_name.\n",
      "2023-04-04 14:56:37,690|INFO|Generated 1 fingerprints for placeholder_name.\n",
      "2023-04-04 14:56:37,696|INFO|Generating conformers for placeholder_name.\n",
      "2023-04-04 14:56:44,468|INFO|Generated 1 conformers for placeholder_name.\n",
      "2023-04-04 14:56:44,469|INFO|Generating fingerprints for placeholder_name.\n",
      "2023-04-04 14:56:44,661|INFO|Generated 1 fingerprints for placeholder_name.\n",
      "2023-04-04 14:56:44,667|INFO|Generating conformers for placeholder_name.\n",
      "2023-04-04 14:56:51,143|INFO|Generated 1 conformers for placeholder_name.\n",
      "2023-04-04 14:56:51,144|INFO|Generating fingerprints for placeholder_name.\n",
      "2023-04-04 14:56:51,339|INFO|Generated 1 fingerprints for placeholder_name.\n",
      "2023-04-04 14:56:51,345|INFO|Generating conformers for placeholder_name.\n",
      "2023-04-04 14:56:57,321|INFO|Generated 1 conformers for placeholder_name.\n",
      "2023-04-04 14:56:57,324|INFO|Generating fingerprints for placeholder_name.\n",
      "2023-04-04 14:56:57,513|INFO|Generated 1 fingerprints for placeholder_name.\n",
      "2023-04-04 14:56:57,518|INFO|Generating conformers for placeholder_name.\n",
      "2023-04-04 14:57:03,717|INFO|Generated 1 conformers for placeholder_name.\n",
      "2023-04-04 14:57:03,718|INFO|Generating fingerprints for placeholder_name.\n",
      "2023-04-04 14:57:03,903|INFO|Generated 1 fingerprints for placeholder_name.\n",
      "2023-04-04 14:57:03,909|INFO|Generating conformers for placeholder_name.\n",
      "2023-04-04 14:57:09,633|INFO|Generated 1 conformers for placeholder_name.\n",
      "2023-04-04 14:57:09,635|INFO|Generating fingerprints for placeholder_name.\n",
      "2023-04-04 14:57:09,799|INFO|Generated 1 fingerprints for placeholder_name.\n",
      "2023-04-04 14:57:09,804|INFO|Generating conformers for placeholder_name.\n",
      "2023-04-04 14:57:45,755|INFO|Generated 1 conformers for placeholder_name.\n",
      "2023-04-04 14:57:45,757|INFO|Generating fingerprints for placeholder_name.\n",
      "2023-04-04 14:57:45,954|INFO|Generated 1 fingerprints for placeholder_name.\n",
      "2023-04-04 14:57:45,960|INFO|Generating conformers for placeholder_name.\n",
      "2023-04-04 14:57:50,146|INFO|Generated 1 conformers for placeholder_name.\n",
      "2023-04-04 14:57:50,149|INFO|Generating fingerprints for placeholder_name.\n",
      "2023-04-04 14:57:50,286|INFO|Generated 1 fingerprints for placeholder_name.\n",
      "2023-04-04 14:57:50,291|INFO|Generating conformers for placeholder_name.\n",
      "2023-04-04 14:57:57,226|INFO|Generated 1 conformers for placeholder_name.\n",
      "2023-04-04 14:57:57,227|INFO|Generating fingerprints for placeholder_name.\n",
      "2023-04-04 14:57:57,391|INFO|Generated 1 fingerprints for placeholder_name.\n",
      "2023-04-04 14:57:57,396|INFO|Generating conformers for placeholder_name.\n",
      "2023-04-04 14:58:04,123|INFO|Generated 1 conformers for placeholder_name.\n",
      "2023-04-04 14:58:04,124|INFO|Generating fingerprints for placeholder_name.\n",
      "2023-04-04 14:58:04,288|INFO|Generated 1 fingerprints for placeholder_name.\n",
      "2023-04-04 14:58:04,293|INFO|Generating conformers for placeholder_name.\n",
      "2023-04-04 14:58:08,346|INFO|Generated 1 conformers for placeholder_name.\n",
      "2023-04-04 14:58:08,349|INFO|Generating fingerprints for placeholder_name.\n",
      "2023-04-04 14:58:08,486|INFO|Generated 1 fingerprints for placeholder_name.\n",
      "2023-04-04 14:58:08,492|INFO|Generating conformers for placeholder_name.\n",
      "2023-04-04 15:07:12,375|INFO|Generated 1 conformers for placeholder_name.\n",
      "2023-04-04 15:07:12,379|INFO|Generating fingerprints for placeholder_name.\n",
      "2023-04-04 15:07:12,766|INFO|Generated 1 fingerprints for placeholder_name.\n",
      "2023-04-04 15:07:12,771|INFO|Generating conformers for placeholder_name.\n",
      "2023-04-04 15:12:04,417|INFO|Generated 1 conformers for placeholder_name.\n",
      "2023-04-04 15:12:04,421|INFO|Generating fingerprints for placeholder_name.\n",
      "2023-04-04 15:12:04,669|INFO|Generated 1 fingerprints for placeholder_name.\n",
      "2023-04-04 15:12:04,675|INFO|Generating conformers for placeholder_name.\n"
     ]
    }
   ],
   "source": [
    "# # set ECFP hyperparameters\n",
    "# settings_dict[\"radius\"] = 2\n",
    "# settings_dict[\"bitstring_length\"] = 2**11\n",
    "# settings_dict[\"use_features\"] = False\n",
    "# settings_dict[\"use_chirality\"] = True\n",
    "\n",
    "# create dictionary that maps SMILES strings to ECFPs\n",
    "x_3fp = {}\n",
    "\n",
    "for smiles in x_smiles:\n",
    "\n",
    "    x_3fp.update({smiles: e3fp_from_smiles(smiles).tolist()})\n",
    "with open('smiles_3fp_dict.txt', 'w') as file:\n",
    "    file.write(json.dumps(x_3fp))\n",
    "\n",
    "# x_smiles_to_3fp_dict = dict(list(zip(x_smiles, x_3fp)))"
   ]
  },
  {
   "cell_type": "code",
   "execution_count": null,
   "metadata": {},
   "outputs": [
    {
     "ename": "NameError",
     "evalue": "name 'x_smiles_to_3fp_dict' is not defined",
     "output_type": "error",
     "traceback": [
      "\u001b[0;31m---------------------------------------------------------------------------\u001b[0m",
      "\u001b[0;31mNameError\u001b[0m                                 Traceback (most recent call last)",
      "\u001b[0;32m/tmp/ipykernel_1718166/779798777.py\u001b[0m in \u001b[0;36m<module>\u001b[0;34m\u001b[0m\n\u001b[0;32m----> 1\u001b[0;31m \u001b[0mx_smiles_to_3fp_dict\u001b[0m\u001b[0;34m\u001b[0m\u001b[0;34m\u001b[0m\u001b[0m\n\u001b[0m",
      "\u001b[0;31mNameError\u001b[0m: name 'x_smiles_to_3fp_dict' is not defined"
     ]
    }
   ],
   "source": []
  },
  {
   "cell_type": "markdown",
   "metadata": {
    "jp-MarkdownHeadingCollapsed": true,
    "tags": []
   },
   "source": [
    "## PDVs"
   ]
  },
  {
   "cell_type": "code",
   "execution_count": null,
   "metadata": {},
   "outputs": [
    {
     "name": "stdout",
     "output_type": "stream",
     "text": [
      "Number of NaN values to replace =  0 ( 0.0 %)\n",
      "Shape of X_pdv =  (1924, 200)\n"
     ]
    }
   ],
   "source": [
    "# create PDVs\n",
    "settings_dict[\"descriptor_list\"] = None # use default 200 descriptors from literature\n",
    "\n",
    "X_pdv = list(range(settings_dict[\"n_molecules\"]))\n",
    "for (k, smiles) in enumerate(x_smiles):\n",
    "    X_pdv[k] = rdkit_mol_descriptors_from_smiles(smiles, descriptor_list = settings_dict[\"descriptor_list\"])\n",
    "X_pdv = np.array(X_pdv)\n",
    "\n",
    "# replace NaN with 0\n",
    "print(\"Number of NaN values to replace = \", np.sum(np.isnan(X_pdv)),\"(\",100*np.sum(np.isnan(X_pdv))/(X_pdv.shape[0]*X_pdv.shape[1]) ,r\"%)\")\n",
    "X_pdv = np.nan_to_num(X_pdv)\n",
    "print(\"Shape of X_pdv = \", X_pdv.shape)\n",
    "\n",
    "# create dictionary that maps SMILES strings to PDVs\n",
    "x_smiles_to_pdv_dict = dict(list(zip(x_smiles, X_pdv)))"
   ]
  },
  {
   "cell_type": "markdown",
   "metadata": {
    "jp-MarkdownHeadingCollapsed": true,
    "tags": []
   },
   "source": [
    "## Molecular Graphs"
   ]
  },
  {
   "cell_type": "code",
   "execution_count": null,
   "metadata": {},
   "outputs": [
    {
     "data": {
      "text/plain": [
       "200"
      ]
     },
     "execution_count": 30,
     "metadata": {},
     "output_type": "execute_result"
    }
   ],
   "source": [
    "len(list(x_smiles_to_pdv_dict.values())[0])"
   ]
  },
  {
   "cell_type": "code",
   "execution_count": null,
   "metadata": {},
   "outputs": [],
   "source": [
    "# create molecular graphs as list of geometric data objects\n",
    "\n",
    "graph_list = create_pytorch_geometric_data_set_from_smiles_and_targets(x_smiles, y)"
   ]
  },
  {
   "cell_type": "markdown",
   "metadata": {
    "jp-MarkdownHeadingCollapsed": true,
    "tags": []
   },
   "source": [
    "# Experimentally Evaluate QSAR Models"
   ]
  },
  {
   "cell_type": "markdown",
   "metadata": {
    "id": "L6smSzqcnJwZ",
    "jp-MarkdownHeadingCollapsed": true,
    "tags": []
   },
   "source": [
    "## ECFP + RF"
   ]
  },
  {
   "cell_type": "code",
   "execution_count": null,
   "metadata": {
    "id": "7GMrprO3nJwZ"
   },
   "outputs": [],
   "source": [
    "# set directory for saving of experimental results\n",
    "\n",
    "settings_dict[\"method_name\"] = \"ecfp_rf\"\n",
    "filepath = \"results/\" + settings_dict[\"target_name\"] + \"/\" + settings_dict[\"method_name\"] + \"/\""
   ]
  },
  {
   "cell_type": "code",
   "execution_count": null,
   "metadata": {
    "id": "AOdCsIVAnJwb"
   },
   "outputs": [],
   "source": [
    "# hyperparameter- and random search settings\n",
    "\n",
    "settings_dict[\"j_splits\"] = 5\n",
    "settings_dict[\"h_iters\"] = 10\n",
    "settings_dict[\"random_search_scoring\"] = \"neg_mean_absolute_error\"\n",
    "settings_dict[\"random_search_verbose\"] = 1\n",
    "settings_dict[\"random_search_random_state\"] = 42\n",
    "settings_dict[\"random_search_n_jobs\"] = -1\n",
    "settings_dict[\"hyperparameter_grid\"] = {\"n_estimators\": [500], \n",
    "                                        \"max_depth\": [30, 40, 50, 60, 70, 80, 90, 100, 110, 120, None],\n",
    "                                        \"min_samples_split\": [2, 4, 6, 8, 10, 12],\n",
    "                                        \"min_samples_leaf\": [1, 2, 3, 4, 5, 6],\n",
    "                                        \"max_features\": [\"auto\", \"sqrt\", \"log2\"],\n",
    "                                        \"bootstrap\": [True, False],\n",
    "                                        \"random_state\": [42]}"
   ]
  },
  {
   "cell_type": "code",
   "execution_count": null,
   "metadata": {},
   "outputs": [],
   "source": [
    "# model evaluation via m-times repeated k-fold cross validation\n",
    "start_time = time.time()\n",
    "\n",
    "# preallocate dictionary with cubic arrays used to save prediction values and performance scores over all m*k experiments\n",
    "scores_dict = create_scores_dict(k_splits = settings_dict[\"k_splits\"], \n",
    "                                 m_reps = settings_dict[\"m_reps\"], \n",
    "                                 len_y = settings_dict[\"n_molecules\"])\n",
    "\n",
    "# train and evaluate models\n",
    "for (m, k) in data_split_dictionary.keys():\n",
    "    \n",
    "    # extract indices for D_train and D_test for this data split\n",
    "    (ind_train_mols, ind_test_mols) = data_split_dictionary[(m,k)][0:2]\n",
    "    \n",
    "    # generate training- and test data (for individual molecules)        \n",
    "    X_fp_train = np.array([x_smiles_to_fp_dict[smiles] for smiles in x_smiles[ind_train_mols]])\n",
    "    y_train = y[ind_train_mols]\n",
    "    \n",
    "    X_fp_test = np.array([x_smiles_to_fp_dict[smiles] for smiles in x_smiles[ind_test_mols]])\n",
    "    y_test = y[ind_test_mols]\n",
    "    \n",
    "    # instantiate fresh model\n",
    "    regressor = RandomizedSearchCV(estimator = RandomForestRegressor(),\n",
    "                                   param_distributions = settings_dict[\"hyperparameter_grid\"],\n",
    "                                   n_iter = settings_dict[\"h_iters\"],\n",
    "                                   cv = settings_dict[\"j_splits\"],\n",
    "                                   scoring = settings_dict[\"random_search_scoring\"],\n",
    "                                   verbose = settings_dict[\"random_search_verbose\"],\n",
    "                                   random_state = settings_dict[\"random_search_random_state\"],\n",
    "                                   n_jobs = settings_dict[\"random_search_n_jobs\"])\n",
    "    \n",
    "    # fit the model on the training data\n",
    "    regressor.fit(X_fp_train, y_train)\n",
    "    \n",
    "    # create and store qsar, ac, and pd-predictions\n",
    "    y_pred = regressor.predict(np.array([x_smiles_to_fp_dict[smiles] for smiles in x_smiles]))\n",
    "    create_and_store_qsar_ac_pd_results(scores_dict, x_smiles, X_smiles_mmps,\n",
    "                                        y, y_mmps, y_mmps_pd, y_pred,\n",
    "                                        data_split_dictionary, m, k)\n",
    "    \n",
    "    # give feedback on completion of this subexperiment\n",
    "    print(\"Subexperiment \", (m,k), \" completed. \\n\")\n",
    "\n",
    "# save experimental results\n",
    "save_qsar_ac_pd_results(filepath, scores_dict)\n",
    "\n",
    "# save experimental settings\n",
    "settings_dict[\"runtime\"] = str(time.strftime(\"%H:%M:%S\", time.gmtime(time.time() - start_time)))\n",
    "save_experimental_settings(filepath, settings_dict)"
   ]
  },
  {
   "cell_type": "code",
   "execution_count": null,
   "metadata": {},
   "outputs": [],
   "source": [
    "# display experimental results and settings\n",
    "display_experimental_results(filepath, decimals = 4)"
   ]
  },
  {
   "cell_type": "markdown",
   "metadata": {
    "id": "sfajdA2xnJwf",
    "jp-MarkdownHeadingCollapsed": true,
    "tags": []
   },
   "source": [
    "## ECFP + kNN"
   ]
  },
  {
   "cell_type": "code",
   "execution_count": null,
   "metadata": {
    "id": "GN6Eky7QnJwg"
   },
   "outputs": [],
   "source": [
    "# set directory for saving of experimental results\n",
    "\n",
    "settings_dict[\"method_name\"] = \"ecfp_knn\"\n",
    "filepath = \"results/\" + settings_dict[\"target_name\"] + \"/\" + settings_dict[\"method_name\"] + \"/\""
   ]
  },
  {
   "cell_type": "code",
   "execution_count": null,
   "metadata": {
    "id": "-7JAlQJ-nJwh"
   },
   "outputs": [],
   "source": [
    "# hyperparameter- and random search settings\n",
    "\n",
    "settings_dict[\"j_splits\"] = 5\n",
    "settings_dict[\"h_iters\"] = 10\n",
    "settings_dict[\"random_search_scoring\"] = \"neg_mean_absolute_error\"\n",
    "settings_dict[\"random_search_verbose\"] = 1\n",
    "settings_dict[\"random_search_random_state\"] = 42\n",
    "settings_dict[\"random_search_n_jobs\"] = -1\n",
    "settings_dict[\"hyperparameter_grid\"] = {\"n_neighbors\": list(range(1, 101)),\n",
    "                                        \"weights\": [\"uniform\", \"distance\"],\n",
    "                                        \"p\": [1, 2, 3]}"
   ]
  },
  {
   "cell_type": "code",
   "execution_count": null,
   "metadata": {
    "id": "KKyyrrYHnJwh",
    "outputId": "7360ef19-66c0-4bdd-a43f-017e1967335b"
   },
   "outputs": [],
   "source": [
    "# model evaluation via m-times repeated k-fold cross validation\n",
    "start_time = time.time()\n",
    "\n",
    "# preallocate dictionary with cubic arrays used to save prediction values and performance scores over all m*k experiments\n",
    "scores_dict = create_scores_dict(k_splits = settings_dict[\"k_splits\"], \n",
    "                                 m_reps = settings_dict[\"m_reps\"], \n",
    "                                 len_y = settings_dict[\"n_molecules\"])\n",
    "\n",
    "# train and evaluate models\n",
    "for (m, k) in data_split_dictionary.keys():\n",
    "    \n",
    "    # extract indices for D_train and D_test for this data split\n",
    "    (ind_train_mols, ind_test_mols) = data_split_dictionary[(m,k)][0:2]\n",
    "    \n",
    "    # generate training- and test data (mols)        \n",
    "    X_fp_train = np.array([x_smiles_to_fp_dict[smiles] for smiles in x_smiles[ind_train_mols]])\n",
    "    y_train = y[ind_train_mols]\n",
    "    \n",
    "    X_fp_test = np.array([x_smiles_to_fp_dict[smiles] for smiles in x_smiles[ind_test_mols]])\n",
    "    y_test = y[ind_test_mols]\n",
    "    \n",
    "    # instantiate fresh model\n",
    "    regressor = RandomizedSearchCV(estimator = KNeighborsRegressor(),\n",
    "                                   param_distributions = settings_dict[\"hyperparameter_grid\"],\n",
    "                                   n_iter = settings_dict[\"h_iters\"],\n",
    "                                   cv = settings_dict[\"j_splits\"],\n",
    "                                   scoring = settings_dict[\"random_search_scoring\"],\n",
    "                                   verbose = settings_dict[\"random_search_verbose\"],\n",
    "                                   random_state = settings_dict[\"random_search_random_state\"],\n",
    "                                   n_jobs = settings_dict[\"random_search_n_jobs\"])\n",
    "\n",
    "    # fit the model on the training data\n",
    "    regressor.fit(X_fp_train, y_train)\n",
    "    \n",
    "    # create and store qsar, ac, and pd-predictions\n",
    "    y_pred = regressor.predict(np.array([x_smiles_to_fp_dict[smiles] for smiles in x_smiles]))\n",
    "    create_and_store_qsar_ac_pd_results(scores_dict, x_smiles, X_smiles_mmps,\n",
    "                                        y, y_mmps, y_mmps_pd, y_pred,\n",
    "                                        data_split_dictionary, m, k)\n",
    "    \n",
    "    # give feedback on completion of this subexperiment\n",
    "    print(\"Subexperiment \", (m,k), \" completed. \\n\")\n",
    "\n",
    "# save experimental results\n",
    "save_qsar_ac_pd_results(filepath, scores_dict)\n",
    "\n",
    "# save experimental settings\n",
    "settings_dict[\"runtime\"] = str(time.strftime(\"%H:%M:%S\", time.gmtime(time.time() - start_time)))\n",
    "save_experimental_settings(filepath, settings_dict)"
   ]
  },
  {
   "cell_type": "code",
   "execution_count": null,
   "metadata": {
    "id": "7Zf7j4gBnJwi",
    "outputId": "795f5101-6ca5-4508-c6a1-064d5579f001"
   },
   "outputs": [],
   "source": [
    "# display experimental results and settings\n",
    "display_experimental_results(filepath, decimals = 4)"
   ]
  },
  {
   "cell_type": "markdown",
   "metadata": {
    "jp-MarkdownHeadingCollapsed": true,
    "tags": []
   },
   "source": [
    "## ECFP + MLP"
   ]
  },
  {
   "cell_type": "code",
   "execution_count": null,
   "metadata": {
    "id": "GN6Eky7QnJwg"
   },
   "outputs": [],
   "source": [
    "# set directory for saving of experimental results\n",
    "\n",
    "settings_dict[\"method_name\"] = \"ecfp_mlp\"\n",
    "filepath = \"results/\" + settings_dict[\"target_name\"] + \"/\" + settings_dict[\"method_name\"] + \"/\""
   ]
  },
  {
   "cell_type": "code",
   "execution_count": null,
   "metadata": {
    "id": "-7JAlQJ-nJwh"
   },
   "outputs": [],
   "source": [
    "# hyperparameter- and optuna options\n",
    "\n",
    "settings_dict[\"optuna_options\"] = {\"h_iters\": 20,\n",
    "                                   \"frac_train\": 0.8,\n",
    "                                   \"data_splitting_seed\": 42,\n",
    "                                   \"performance_metric\": mean_absolute_error,\n",
    "                                   \"direction\": \"minimize\",\n",
    "                                   \"sampler\": optuna.samplers.TPESampler(), \n",
    "                                   \"pruner\": optuna.pruners.NopPruner()} \n",
    "\n",
    "settings_dict[\"mlp_hyperparameter_grid\"] = {\"architecture\": [arch(settings_dict[\"bitstring_length\"], 1, w, d) for (w,d) in all_combs_list([64, 128, 256, 512], [1, 5, 10])],\n",
    "                                          \"hidden_activation\": [nn.ReLU()],\n",
    "                                          \"output_activation\": [nn.Identity()],\n",
    "                                          \"use_bias\": [True],\n",
    "                                          \"hidden_dropout_rate\": [0, 0.25],\n",
    "                                          \"hidden_batchnorm\": [True]}\n",
    "\n",
    "settings_dict[\"train_hyperparameter_grid\"] = {\"batch_size\": [32, 64, 128],\n",
    "                                              \"dataloader_shuffle\": [True],\n",
    "                                              \"dataloader_drop_last\":[True],\n",
    "                                              \"learning_rate\": [1e-2, 1e-3],\n",
    "                                              \"lr_lambda\": [lambda epoch: max(0.95**epoch, 1e-2), lambda epoch: max(0.99**epoch, 1e-2)],\n",
    "                                              \"weight_decay\": [0.1, 0.01],\n",
    "                                              \"num_epochs\": [500],\n",
    "                                              \"loss_function\": [nn.MSELoss()],\n",
    "                                              \"optimiser\": [torch.optim.AdamW],\n",
    "                                              \"performance_metrics\": [\"regression\"],\n",
    "                                              \"print_results_per_epochs\": [None]}"
   ]
  },
  {
   "cell_type": "code",
   "execution_count": null,
   "metadata": {
    "id": "KKyyrrYHnJwh",
    "outputId": "7360ef19-66c0-4bdd-a43f-017e1967335b"
   },
   "outputs": [],
   "source": [
    "# model evaluation via m-times repeated k-fold cross validation\n",
    "start_time = time.time()\n",
    "\n",
    "# preallocate dictionary with cubic arrays used to save prediction values and performance scores over all m*k experiments\n",
    "scores_dict = create_scores_dict(k_splits = settings_dict[\"k_splits\"], \n",
    "                                 m_reps = settings_dict[\"m_reps\"], \n",
    "                                 len_y = settings_dict[\"n_molecules\"])\n",
    "\n",
    "# train and evaluate models\n",
    "for (m, k) in data_split_dictionary.keys():\n",
    "    \n",
    "    # extract indices for D_train and D_test for this data split\n",
    "    (ind_train_mols, ind_test_mols) = data_split_dictionary[(m,k)][0:2]\n",
    "    \n",
    "    # generate training- and test data (mols)\n",
    "    X_fp = np.array([x_smiles_to_fp_dict[smiles] for smiles in x_smiles])\n",
    "    \n",
    "    X_fp_train = np.array([x_smiles_to_fp_dict[smiles] for smiles in x_smiles[ind_train_mols]])\n",
    "    y_train = y[ind_train_mols]\n",
    "    Y_train = np.reshape(y_train, (-1, 1))\n",
    "    \n",
    "    X_fp_test = np.array([x_smiles_to_fp_dict[smiles] for smiles in x_smiles[ind_test_mols]])\n",
    "    y_test = y[ind_test_mols]\n",
    "    Y_test = np.reshape(y_test, (-1, 1))\n",
    "    \n",
    "    # create pytorch dataset objects for training and testing\n",
    "    dataset_train = TensorDataset(torch.tensor(X_fp_train, dtype = torch.float), torch.tensor(Y_train, dtype = torch.float))\n",
    "    dataset_test = TensorDataset(torch.tensor(X_fp_test, dtype = torch.float), torch.tensor(Y_test, dtype = torch.float))\n",
    "    \n",
    "    # find best hyperparameters via optuna and train associated model on training set\n",
    "    (regressor, \n",
    "     loss_curve_training_set) = train_mlps_via_optuna(dataset_train,\n",
    "                                                      settings_dict[\"optuna_options\"],\n",
    "                                                      settings_dict[\"mlp_hyperparameter_grid\"], \n",
    "                                                      settings_dict[\"train_hyperparameter_grid\"])\n",
    "    \n",
    "    # plot learning curves\n",
    "    plt.plot(loss_curve_training_set)\n",
    "    plt.title(\"loss curve on training set\")\n",
    "    plt.show()\n",
    "    \n",
    "    # create qsar predictions used to evaluate the model\n",
    "    y_pred = regressor(torch.tensor(X_fp, dtype = torch.float).to('cuda' if torch.cuda.is_available() else 'cpu')).cpu().detach().numpy()[:,0]\n",
    "    create_and_store_qsar_ac_pd_results(scores_dict, x_smiles, X_smiles_mmps,\n",
    "                                        y, y_mmps, y_mmps_pd, y_pred,\n",
    "                                        data_split_dictionary, m, k)\n",
    "    \n",
    "    # give feedback on completion of this subexperiment\n",
    "    print(\"Subexperiment \", (m,k), \" completed. \\n\")\n",
    "\n",
    "# save experimental results\n",
    "save_qsar_ac_pd_results(filepath, scores_dict)\n",
    "\n",
    "# save experimental settings\n",
    "settings_dict[\"runtime\"] = str(time.strftime(\"%H:%M:%S\", time.gmtime(time.time() - start_time)))\n",
    "save_experimental_settings(filepath, settings_dict)"
   ]
  },
  {
   "cell_type": "code",
   "execution_count": null,
   "metadata": {
    "id": "7Zf7j4gBnJwi",
    "outputId": "795f5101-6ca5-4508-c6a1-064d5579f001"
   },
   "outputs": [],
   "source": [
    "# display experimental results and settings\n",
    "display_experimental_results(filepath, decimals = 4)"
   ]
  },
  {
   "cell_type": "markdown",
   "metadata": {
    "id": "IhPn8_4-nJwj",
    "jp-MarkdownHeadingCollapsed": true,
    "tags": []
   },
   "source": [
    "## PDV + RF"
   ]
  },
  {
   "cell_type": "code",
   "execution_count": null,
   "metadata": {
    "id": "y9mGLDz-nJwk"
   },
   "outputs": [],
   "source": [
    "# set directory for saving of experimental results\n",
    "\n",
    "settings_dict[\"method_name\"] = \"pdv_rf\"\n",
    "filepath = \"results/\" + settings_dict[\"target_name\"] + \"/\" + settings_dict[\"method_name\"] + \"/\""
   ]
  },
  {
   "cell_type": "code",
   "execution_count": null,
   "metadata": {
    "id": "sEZUbibknJwl"
   },
   "outputs": [],
   "source": [
    "# hyperparameter- and random search settings\n",
    "\n",
    "settings_dict[\"j_splits\"] = 5\n",
    "settings_dict[\"h_iters\"] = 10\n",
    "settings_dict[\"random_search_scoring\"] = \"neg_mean_absolute_error\"\n",
    "settings_dict[\"random_search_verbose\"] = 1\n",
    "settings_dict[\"random_search_random_state\"] = 42\n",
    "settings_dict[\"random_search_n_jobs\"] = -1\n",
    "settings_dict[\"hyperparameter_grid\"] = {\"n_estimators\": [500], \n",
    "                                        \"max_depth\": [30, 40, 50, 60, 70, 80, 90, 100, 110, 120, None],\n",
    "                                        \"min_samples_split\": [2, 4, 6, 8, 10, 12],\n",
    "                                        \"min_samples_leaf\": [1, 2, 3, 4, 5, 6],\n",
    "                                        \"max_features\": [\"auto\", \"sqrt\", \"log2\"],\n",
    "                                        \"bootstrap\": [True, False],\n",
    "                                        \"random_state\": [42]}"
   ]
  },
  {
   "cell_type": "code",
   "execution_count": null,
   "metadata": {
    "id": "yFqHdI7LnJwl",
    "outputId": "81ba861e-ac69-4de9-b6c5-e9a39bf9b38e"
   },
   "outputs": [],
   "source": [
    "# model evaluation via m-times repeated k-fold cross validation\n",
    "start_time = time.time()\n",
    "\n",
    "# preallocate dictionary with cubic arrays used to save prediction values and performance scores over all m*k experiments\n",
    "scores_dict = create_scores_dict(k_splits = settings_dict[\"k_splits\"], \n",
    "                                 m_reps = settings_dict[\"m_reps\"], \n",
    "                                 len_y = settings_dict[\"n_molecules\"])\n",
    "\n",
    "# train and evaluate models\n",
    "for (m, k) in data_split_dictionary.keys():\n",
    "    \n",
    "    # extract indices for D_train and D_test for this data split\n",
    "    (ind_train_mols, ind_test_mols) = data_split_dictionary[(m,k)][0:2]\n",
    "    \n",
    "    # generate training- and test data (mols)        \n",
    "    X_pdv_train = X_pdv[ind_train_mols]\n",
    "    y_train = y[ind_train_mols]\n",
    "    \n",
    "    X_pdv_test = X_pdv[ind_test_mols]\n",
    "    y_test = y[ind_test_mols]\n",
    "    \n",
    "    # normalise data with empirical cumulative distribution functions for each feature (ecdf derived from training set)\n",
    "    (X_pdv_norm_train, normalisation_function) = normaliser_cdf(X_pdv_train)\n",
    "    X_pdv_norm_test = normalisation_function(X_pdv_test)\n",
    "    X_pdv_norm = normalisation_function(X_pdv)\n",
    "    \n",
    "    # instantiate fresh model\n",
    "    regressor = RandomizedSearchCV(estimator = RandomForestRegressor(),\n",
    "                                   param_distributions = settings_dict[\"hyperparameter_grid\"],\n",
    "                                   n_iter = settings_dict[\"h_iters\"],\n",
    "                                   cv = settings_dict[\"j_splits\"],\n",
    "                                   scoring = settings_dict[\"random_search_scoring\"],\n",
    "                                   verbose = settings_dict[\"random_search_verbose\"],\n",
    "                                   random_state = settings_dict[\"random_search_random_state\"],\n",
    "                                   n_jobs = settings_dict[\"random_search_n_jobs\"])\n",
    "\n",
    "    # fit the model on the training data\n",
    "    regressor.fit(X_pdv_norm_train, y_train)\n",
    "    \n",
    "    # create qsar predictions used to evaluate the model\n",
    "    y_pred = regressor.predict(X_pdv_norm)\n",
    "    create_and_store_qsar_ac_pd_results(scores_dict, x_smiles, X_smiles_mmps,\n",
    "                                        y, y_mmps, y_mmps_pd, y_pred,\n",
    "                                        data_split_dictionary, m, k)\n",
    "    \n",
    "    # give feedback on completion of this subexperiment\n",
    "    print(\"Subexperiment \", (m,k), \" completed. \\n\")\n",
    "\n",
    "# save experimental results\n",
    "save_qsar_ac_pd_results(filepath, scores_dict)\n",
    "\n",
    "# save experimental settings\n",
    "settings_dict[\"runtime\"] = str(time.strftime(\"%H:%M:%S\", time.gmtime(time.time() - start_time)))\n",
    "save_experimental_settings(filepath, settings_dict)"
   ]
  },
  {
   "cell_type": "code",
   "execution_count": null,
   "metadata": {
    "id": "PYMeQfrrnJwm",
    "outputId": "c31ac760-a81f-4420-febf-3ef869f246f1"
   },
   "outputs": [],
   "source": [
    "# display experimental results and settings\n",
    "display_experimental_results(filepath, decimals = 4)"
   ]
  },
  {
   "cell_type": "markdown",
   "metadata": {
    "id": "qTPJp_6cnJwm",
    "jp-MarkdownHeadingCollapsed": true,
    "tags": []
   },
   "source": [
    "## PDV + kNN"
   ]
  },
  {
   "cell_type": "code",
   "execution_count": null,
   "metadata": {
    "id": "ynTBH9HPnJwm"
   },
   "outputs": [],
   "source": [
    "# set directory for saving of experimental results\n",
    "\n",
    "settings_dict[\"method_name\"] = \"pdv_knn\"\n",
    "filepath = \"results/\" + settings_dict[\"target_name\"] + \"/\" + settings_dict[\"method_name\"] + \"/\""
   ]
  },
  {
   "cell_type": "code",
   "execution_count": null,
   "metadata": {
    "id": "yB2mOYdAnJwn"
   },
   "outputs": [],
   "source": [
    "# hyperparameter- and random search settings\n",
    "\n",
    "settings_dict[\"j_splits\"] = 5\n",
    "settings_dict[\"h_iters\"] = 10\n",
    "settings_dict[\"random_search_scoring\"] = \"neg_mean_absolute_error\"\n",
    "settings_dict[\"random_search_verbose\"] = 1\n",
    "settings_dict[\"random_search_random_state\"] = 42\n",
    "settings_dict[\"random_search_n_jobs\"] = -1\n",
    "settings_dict[\"hyperparameter_grid\"] = {\"n_neighbors\": list(range(1, 101)),\n",
    "                                        \"weights\": [\"uniform\", \"distance\"],\n",
    "                                        \"p\": [1, 2, 3]}"
   ]
  },
  {
   "cell_type": "code",
   "execution_count": null,
   "metadata": {
    "id": "AVif7dkInJwn",
    "outputId": "7491b0c2-fd9c-4c48-9617-37232f5a84c3"
   },
   "outputs": [],
   "source": [
    "# model evaluation via m-times repeated k-fold cross validation\n",
    "start_time = time.time()\n",
    "\n",
    "# preallocate dictionary with cubic arrays used to save prediction values and performance scores over all m*k experiments\n",
    "scores_dict = create_scores_dict(k_splits = settings_dict[\"k_splits\"], \n",
    "                                 m_reps = settings_dict[\"m_reps\"], \n",
    "                                 len_y = settings_dict[\"n_molecules\"])\n",
    "\n",
    "# train and evaluate models\n",
    "for (m, k) in data_split_dictionary.keys():\n",
    "    \n",
    "    # extract indices for D_train and D_test for this data split\n",
    "    (ind_train_mols, ind_test_mols) = data_split_dictionary[(m,k)][0:2]\n",
    "    \n",
    "    # generate training- and test data (mols)        \n",
    "    X_pdv_train = X_pdv[ind_train_mols]\n",
    "    y_train = y[ind_train_mols]\n",
    "    \n",
    "    X_pdv_test = X_pdv[ind_test_mols]\n",
    "    y_test = y[ind_test_mols]\n",
    "    \n",
    "    # normalise data with empirical cumulative distribution functions for each feature (ecdf derived from training set)\n",
    "    (X_pdv_norm_train, normalisation_function) = normaliser_cdf(X_pdv_train)\n",
    "    X_pdv_norm_test = normalisation_function(X_pdv_test)\n",
    "    X_pdv_norm = normalisation_function(X_pdv)\n",
    "    \n",
    "     # instantiate fresh model\n",
    "    regressor = RandomizedSearchCV(estimator = KNeighborsRegressor(),\n",
    "                                   param_distributions = settings_dict[\"hyperparameter_grid\"],\n",
    "                                   n_iter = settings_dict[\"h_iters\"],\n",
    "                                   cv = settings_dict[\"j_splits\"],\n",
    "                                   scoring = settings_dict[\"random_search_scoring\"],\n",
    "                                   verbose = settings_dict[\"random_search_verbose\"],\n",
    "                                   random_state = settings_dict[\"random_search_random_state\"],\n",
    "                                   n_jobs = settings_dict[\"random_search_n_jobs\"])\n",
    "\n",
    "    # fit the model on the training data\n",
    "    regressor.fit(X_pdv_norm_train, y_train)\n",
    "    \n",
    "    # create qsar predictions used to evaluate the model\n",
    "    y_pred = regressor.predict(X_pdv_norm)\n",
    "    create_and_store_qsar_ac_pd_results(scores_dict, x_smiles, X_smiles_mmps,\n",
    "                                        y, y_mmps, y_mmps_pd, y_pred,\n",
    "                                        data_split_dictionary, m, k)\n",
    "    \n",
    "    # give feedback on completion of this subexperiment\n",
    "    print(\"Subexperiment \", (m,k), \" completed. \\n\")\n",
    "\n",
    "# save experimental results\n",
    "save_qsar_ac_pd_results(filepath, scores_dict)\n",
    "\n",
    "# save experimental settings\n",
    "settings_dict[\"runtime\"] = str(time.strftime(\"%H:%M:%S\", time.gmtime(time.time() - start_time)))\n",
    "save_experimental_settings(filepath, settings_dict)"
   ]
  },
  {
   "cell_type": "code",
   "execution_count": null,
   "metadata": {
    "id": "NLt4lV-vnJwo",
    "outputId": "0cb8b324-a0e2-4402-ca8a-35260719ae84"
   },
   "outputs": [],
   "source": [
    "# display experimental results and settings\n",
    "display_experimental_results(filepath, decimals = 4)"
   ]
  },
  {
   "cell_type": "markdown",
   "metadata": {
    "id": "T904R4jAnJwp",
    "jp-MarkdownHeadingCollapsed": true,
    "tags": []
   },
   "source": [
    "## PDV + MLP"
   ]
  },
  {
   "cell_type": "code",
   "execution_count": null,
   "metadata": {
    "id": "PzP-ACRRnJwp"
   },
   "outputs": [],
   "source": [
    "# set directory for saving of experimental results\n",
    "\n",
    "settings_dict[\"method_name\"] = \"pdv_mlp\"\n",
    "filepath = \"results/\" + settings_dict[\"target_name\"] + \"/\" + settings_dict[\"method_name\"] + \"/\""
   ]
  },
  {
   "cell_type": "code",
   "execution_count": null,
   "metadata": {
    "id": "_aQkXhCvnJwq"
   },
   "outputs": [],
   "source": [
    "# hyperparameter- and optuna options\n",
    "\n",
    "settings_dict[\"optuna_options\"] = {\"h_iters\": 20,\n",
    "                                   \"frac_train\": 0.8,\n",
    "                                   \"data_splitting_seed\": 42,\n",
    "                                   \"performance_metric\": mean_absolute_error,\n",
    "                                   \"direction\": \"minimize\",\n",
    "                                   \"sampler\": optuna.samplers.TPESampler(), \n",
    "                                   \"pruner\": optuna.pruners.NopPruner()} \n",
    "\n",
    "settings_dict[\"mlp_hyperparameter_grid\"] = {\"architecture\": [arch(200, 1, w, d) for (w,d) in all_combs_list([64, 128, 256, 512], [1, 5, 10])],\n",
    "                                          \"hidden_activation\": [nn.ReLU()],\n",
    "                                          \"output_activation\": [nn.Identity()],\n",
    "                                          \"use_bias\": [True],\n",
    "                                          \"hidden_dropout_rate\": [0, 0.25],\n",
    "                                          \"hidden_batchnorm\": [True]}\n",
    "\n",
    "settings_dict[\"train_hyperparameter_grid\"] = {\"batch_size\": [32, 64, 128],\n",
    "                                              \"dataloader_shuffle\": [True],\n",
    "                                              \"dataloader_drop_last\":[True],\n",
    "                                              \"learning_rate\": [1e-2, 1e-3],\n",
    "                                              \"lr_lambda\": [lambda epoch: max(0.95**epoch, 1e-2), lambda epoch: max(0.99**epoch, 1e-2)],\n",
    "                                              \"weight_decay\": [0.1, 0.01],\n",
    "                                              \"num_epochs\": [500],\n",
    "                                              \"loss_function\": [nn.MSELoss()],\n",
    "                                              \"optimiser\": [torch.optim.AdamW],\n",
    "                                              \"performance_metrics\": [\"regression\"],\n",
    "                                              \"print_results_per_epochs\": [None]}"
   ]
  },
  {
   "cell_type": "code",
   "execution_count": null,
   "metadata": {
    "id": "LVOMQzbwnJwq",
    "outputId": "192972eb-1dd8-4ca1-8e84-8e0a938e397e"
   },
   "outputs": [],
   "source": [
    "# model evaluation via m-times repeated k-fold cross validation\n",
    "start_time = time.time()\n",
    "\n",
    "# preallocate dictionary with cubic arrays used to save prediction values and performance scores over all m*k experiments\n",
    "scores_dict = create_scores_dict(k_splits = settings_dict[\"k_splits\"], \n",
    "                                 m_reps = settings_dict[\"m_reps\"], \n",
    "                                 len_y = settings_dict[\"n_molecules\"])\n",
    "\n",
    "# train and evaluate models\n",
    "for (m, k) in data_split_dictionary.keys():\n",
    "    \n",
    "    # extract indices for D_train and D_test for this data split\n",
    "    (ind_train_mols, ind_test_mols) = data_split_dictionary[(m,k)][0:2]\n",
    "    \n",
    "    # generate training- and test data (mols)        \n",
    "    X_pdv_train = X_pdv[ind_train_mols]\n",
    "    y_train = y[ind_train_mols]\n",
    "    Y_train = np.reshape(y_train, (-1, 1))\n",
    "    \n",
    "    X_pdv_test = X_pdv[ind_test_mols]\n",
    "    y_test = y[ind_test_mols]\n",
    "    Y_test = np.reshape(y_test, (-1, 1))\n",
    "    \n",
    "    # normalise data with empirical cumulative distribution functions for each feature (ecdf derived from training set)\n",
    "    (X_pdv_norm_train, normalisation_function) = normaliser_cdf(X_pdv_train)\n",
    "    X_pdv_norm_test = normalisation_function(X_pdv_test)\n",
    "    X_pdv_norm = normalisation_function(X_pdv)\n",
    "    \n",
    "    # create pytorch dataset objects for training and testing\n",
    "    dataset_train = TensorDataset(torch.tensor(X_pdv_norm_train, dtype = torch.float), torch.tensor(Y_train, dtype = torch.float))\n",
    "    dataset_test = TensorDataset(torch.tensor(X_pdv_norm_test, dtype = torch.float), torch.tensor(Y_test, dtype = torch.float))\n",
    "    \n",
    "    # find best hyperparameters via optuna and train associated model on training set\n",
    "    (regressor, \n",
    "     loss_curve_training_set) = train_mlps_via_optuna(dataset_train,\n",
    "                                                      settings_dict[\"optuna_options\"],\n",
    "                                                      settings_dict[\"mlp_hyperparameter_grid\"], \n",
    "                                                      settings_dict[\"train_hyperparameter_grid\"])\n",
    "    # plot learning curves\n",
    "    plt.plot(loss_curve_training_set)\n",
    "    plt.title(\"loss curve on training set\")\n",
    "    plt.show()\n",
    "    \n",
    "    # create qsar predictions used to evaluate the model\n",
    "    y_pred = regressor(torch.tensor(X_pdv_norm, dtype = torch.float).to('cuda' if torch.cuda.is_available() else 'cpu')).cpu().detach().numpy()[:,0]\n",
    "    create_and_store_qsar_ac_pd_results(scores_dict, x_smiles, X_smiles_mmps,\n",
    "                                        y, y_mmps, y_mmps_pd, y_pred,\n",
    "                                        data_split_dictionary, m, k)\n",
    "    \n",
    "    # give feedback on completion of this subexperiment\n",
    "    print(\"Subexperiment \", (m,k), \" completed. \\n\")\n",
    "\n",
    "# save experimental results\n",
    "save_qsar_ac_pd_results(filepath, scores_dict)\n",
    "\n",
    "# save experimental settings\n",
    "settings_dict[\"runtime\"] = str(time.strftime(\"%H:%M:%S\", time.gmtime(time.time() - start_time)))\n",
    "save_experimental_settings(filepath, settings_dict)"
   ]
  },
  {
   "cell_type": "code",
   "execution_count": null,
   "metadata": {
    "id": "83rJJtNXnJwr",
    "outputId": "c5c932f4-ebc0-4380-fd3d-d1691277f003"
   },
   "outputs": [],
   "source": [
    "# display experimental results and settings\n",
    "display_experimental_results(filepath, decimals = 4)"
   ]
  },
  {
   "cell_type": "markdown",
   "metadata": {
    "jp-MarkdownHeadingCollapsed": true,
    "tags": []
   },
   "source": [
    "## GIN + RF"
   ]
  },
  {
   "cell_type": "code",
   "execution_count": null,
   "metadata": {
    "id": "PzP-ACRRnJwp"
   },
   "outputs": [],
   "source": [
    "# set directory for saving of experimental results\n",
    "\n",
    "settings_dict[\"method_name\"] = \"gin_rf\"\n",
    "filepath = \"results/\" + settings_dict[\"target_name\"] + \"/\" + settings_dict[\"method_name\"] + \"/\""
   ]
  },
  {
   "cell_type": "code",
   "execution_count": null,
   "metadata": {
    "id": "_aQkXhCvnJwq"
   },
   "outputs": [],
   "source": [
    "# GNN + MLP: hyperparameter- and optuna settings\n",
    "\n",
    "settings_dict[\"optuna_options\"] = {\"h_iters\": 20,\n",
    "                                   \"frac_train\": 0.8,\n",
    "                                   \"data_splitting_seed\": 42,\n",
    "                                   \"performance_metric\": mean_absolute_error,\n",
    "                                   \"direction\": \"minimize\",\n",
    "                                   \"sampler\": optuna.samplers.TPESampler(), \n",
    "                                   \"pruner\": optuna.pruners.NopPruner()} \n",
    "\n",
    "settings_dict[\"gin_hyperparameter_grid\"] = {\"n_conv_layers\": [1, 2, 3],\n",
    "                                            \"input_dim\": [79],\n",
    "                                            \"hidden_dim\": [64, 128, 256],\n",
    "                                            \"mlp_n_hidden_layers\": [2],\n",
    "                                            \"mlp_hidden_activation\": [nn.ReLU()],\n",
    "                                            \"mlp_output_activation\": [nn.Identity()],\n",
    "                                            \"mlp_use_bias\": [True],\n",
    "                                            \"mlp_hidden_dropout_rate\": [0, 0.25],\n",
    "                                            \"mlp_hidden_batchnorm\": [True],\n",
    "                                            \"eps\": [0],\n",
    "                                            \"train_eps\": [False],\n",
    "                                            \"pooling_operation\": [global_max_pool]}\n",
    "\n",
    "settings_dict[\"mlp_hyperparameter_grid\"] = {\"architecture\": [arch(None, 1, w, d) for (w,d) in all_combs_list([None], [0])],\n",
    "                                            \"hidden_activation\": [nn.ReLU()],\n",
    "                                            \"output_activation\": [nn.Identity()],\n",
    "                                            \"use_bias\": [True],\n",
    "                                            \"hidden_dropout_rate\": [0],\n",
    "                                            \"hidden_batchnorm\": [True]}\n",
    "\n",
    "settings_dict[\"train_hyperparameter_grid\"] = {\"batch_size\": [32, 64, 128], \n",
    "                                              \"dataloader_shuffle\": [True],\n",
    "                                              \"dataloader_drop_last\":[True],\n",
    "                                              \"learning_rate\": [1e-2, 1e-3],\n",
    "                                              \"lr_lambda\": [lambda epoch: max(0.95**epoch, 1e-2), lambda epoch: max(0.99**epoch, 1e-2)],\n",
    "                                              \"weight_decay\": [0.1, 0.01],\n",
    "                                              \"num_epochs\": [500],\n",
    "                                              \"loss_function\": [nn.MSELoss()],\n",
    "                                              \"optimiser\": [torch.optim.AdamW],\n",
    "                                              \"performance_metrics\": [\"regression\"],\n",
    "                                              \"print_results_per_epochs\": [None]}"
   ]
  },
  {
   "cell_type": "code",
   "execution_count": null,
   "metadata": {},
   "outputs": [],
   "source": [
    "# RF: hyperparameter- and random search settings\n",
    "\n",
    "settings_dict[\"j_splits\"] = 5\n",
    "settings_dict[\"h_iters\"] = 10\n",
    "settings_dict[\"random_search_scoring\"] = \"neg_mean_absolute_error\"\n",
    "settings_dict[\"random_search_verbose\"] = 1\n",
    "settings_dict[\"random_search_random_state\"] = 42\n",
    "settings_dict[\"random_search_n_jobs\"] = -1\n",
    "settings_dict[\"hyperparameter_grid\"] = {\"n_estimators\": [500], \n",
    "                                        \"max_depth\": [30, 40, 50, 60, 70, 80, 90, 100, 110, 120, None],\n",
    "                                        \"min_samples_split\": [2, 4, 6, 8, 10, 12],\n",
    "                                        \"min_samples_leaf\": [1, 2, 3, 4, 5, 6],\n",
    "                                        \"max_features\": [\"auto\", \"sqrt\", \"log2\"],\n",
    "                                        \"bootstrap\": [True, False],\n",
    "                                        \"random_state\": [42]}"
   ]
  },
  {
   "cell_type": "code",
   "execution_count": null,
   "metadata": {
    "id": "LVOMQzbwnJwq",
    "outputId": "192972eb-1dd8-4ca1-8e84-8e0a938e397e"
   },
   "outputs": [],
   "source": [
    "# model evaluation via m-times repeated k-fold cross validation\n",
    "start_time = time.time()\n",
    "\n",
    "# preallocate dictionary with cubic arrays used to save prediction values and performance scores over all m*k experiments\n",
    "scores_dict = create_scores_dict(k_splits = settings_dict[\"k_splits\"], \n",
    "                                 m_reps = settings_dict[\"m_reps\"], \n",
    "                                 len_y = settings_dict[\"n_molecules\"])\n",
    "\n",
    "# train and evaluate models\n",
    "for (m, k) in data_split_dictionary.keys():\n",
    "    \n",
    "    # extract indices for D_train and D_test for this data split\n",
    "    (ind_train_mols, ind_test_mols) = data_split_dictionary[(m,k)][0:2]\n",
    "    \n",
    "    # generate training- and test data (GNN + MLP)\n",
    "    graph_list_train = [graph_list[k] for k in ind_train_mols]\n",
    "    graph_list_test = [graph_list[k] for k in ind_test_mols]\n",
    "    \n",
    "    # find best hyperparameters via optuna and train associated model on training set (GNN + MLP)\n",
    "    (trained_best_gnn_model, \n",
    "     trained_best_mlp_model, \n",
    "     loss_curve_training_set) = train_gnn_mlps_via_optuna(graph_list_train,\n",
    "                                                          settings_dict[\"optuna_options\"],\n",
    "                                                          settings_dict[\"gin_hyperparameter_grid\"], \n",
    "                                                          settings_dict[\"mlp_hyperparameter_grid\"], \n",
    "                                                          settings_dict[\"train_hyperparameter_grid\"])\n",
    "    # plot learning curves (GNN + MLP)\n",
    "    plt.plot(loss_curve_training_set)\n",
    "    plt.title(\"loss curve on training set\")\n",
    "    plt.show()\n",
    "    \n",
    "    # extract learned features from molecular graphs via GNN\n",
    "    dataloader = GeometricDataLoader(dataset = graph_list, batch_size = len(graph_list), shuffle = False, drop_last = False)\n",
    "    trained_best_gnn_model.eval()\n",
    "    for batch in dataloader:\n",
    "        X_gnn = trained_best_gnn_model(batch.to('cuda' if torch.cuda.is_available() else 'cpu')).cpu().detach().numpy()\n",
    "           \n",
    "    # generate training- and test data       \n",
    "    X_gnn_train = X_gnn[ind_train_mols]\n",
    "    y_train = y[ind_train_mols]\n",
    "    \n",
    "    X_gnn_test = X_gnn[ind_test_mols]\n",
    "    y_test = y[ind_test_mols]\n",
    "    \n",
    "    # instantiate fresh model\n",
    "    regressor = RandomizedSearchCV(estimator = RandomForestRegressor(),\n",
    "                                   param_distributions = settings_dict[\"hyperparameter_grid\"],\n",
    "                                   n_iter = settings_dict[\"h_iters\"],\n",
    "                                   cv = settings_dict[\"j_splits\"],\n",
    "                                   scoring = settings_dict[\"random_search_scoring\"],\n",
    "                                   verbose = settings_dict[\"random_search_verbose\"],\n",
    "                                   random_state = settings_dict[\"random_search_random_state\"],\n",
    "                                   n_jobs = settings_dict[\"random_search_n_jobs\"])\n",
    "\n",
    "    # fit the model on the training data\n",
    "    regressor.fit(X_gnn_train, y_train)\n",
    "    \n",
    "    # create qsar predictions used to evaluate the model\n",
    "    y_pred = regressor.predict(X_gnn)\n",
    "    create_and_store_qsar_ac_pd_results(scores_dict, x_smiles, X_smiles_mmps,\n",
    "                                        y, y_mmps, y_mmps_pd, y_pred,\n",
    "                                        data_split_dictionary, m, k)\n",
    "    \n",
    "    # give feedback on completion of this subexperiment\n",
    "    print(\"Subexperiment \", (m,k), \" completed. \\n\")\n",
    "\n",
    "# save experimental results\n",
    "save_qsar_ac_pd_results(filepath, scores_dict)\n",
    "\n",
    "# save experimental settings\n",
    "settings_dict[\"runtime\"] = str(time.strftime(\"%H:%M:%S\", time.gmtime(time.time() - start_time)))\n",
    "save_experimental_settings(filepath, settings_dict)"
   ]
  },
  {
   "cell_type": "code",
   "execution_count": null,
   "metadata": {
    "id": "83rJJtNXnJwr",
    "outputId": "c5c932f4-ebc0-4380-fd3d-d1691277f003"
   },
   "outputs": [],
   "source": [
    "# display experimental results and settings\n",
    "display_experimental_results(filepath, decimals = 4)"
   ]
  },
  {
   "cell_type": "markdown",
   "metadata": {
    "jp-MarkdownHeadingCollapsed": true,
    "tags": []
   },
   "source": [
    "## GIN + kNN"
   ]
  },
  {
   "cell_type": "code",
   "execution_count": null,
   "metadata": {
    "id": "PzP-ACRRnJwp"
   },
   "outputs": [],
   "source": [
    "# set directory for saving of experimental results\n",
    "\n",
    "settings_dict[\"method_name\"] = \"gin_knn\"\n",
    "filepath = \"results/\" + settings_dict[\"target_name\"] + \"/\" + settings_dict[\"method_name\"] + \"/\""
   ]
  },
  {
   "cell_type": "code",
   "execution_count": null,
   "metadata": {
    "id": "_aQkXhCvnJwq"
   },
   "outputs": [],
   "source": [
    "# GNN + MLP: hyperparameter- and optuna settings\n",
    "\n",
    "settings_dict[\"optuna_options\"] = {\"h_iters\": 20,\n",
    "                                   \"frac_train\": 0.8,\n",
    "                                   \"data_splitting_seed\": 42,\n",
    "                                   \"performance_metric\": mean_absolute_error,\n",
    "                                   \"direction\": \"minimize\",\n",
    "                                   \"sampler\": optuna.samplers.TPESampler(), \n",
    "                                   \"pruner\": optuna.pruners.NopPruner()} \n",
    "\n",
    "settings_dict[\"gin_hyperparameter_grid\"] = {\"n_conv_layers\": [1, 2, 3],\n",
    "                                            \"input_dim\": [79],\n",
    "                                            \"hidden_dim\": [64, 128, 256],\n",
    "                                            \"mlp_n_hidden_layers\": [2],\n",
    "                                            \"mlp_hidden_activation\": [nn.ReLU()],\n",
    "                                            \"mlp_output_activation\": [nn.Identity()],\n",
    "                                            \"mlp_use_bias\": [True],\n",
    "                                            \"mlp_hidden_dropout_rate\": [0, 0.25],\n",
    "                                            \"mlp_hidden_batchnorm\": [True],\n",
    "                                            \"eps\": [0],\n",
    "                                            \"train_eps\": [False],\n",
    "                                            \"pooling_operation\": [global_max_pool]}\n",
    "\n",
    "settings_dict[\"mlp_hyperparameter_grid\"] = {\"architecture\": [arch(None, 1, w, d) for (w,d) in all_combs_list([None], [0])],\n",
    "                                            \"hidden_activation\": [nn.ReLU()],\n",
    "                                            \"output_activation\": [nn.Identity()],\n",
    "                                            \"use_bias\": [True],\n",
    "                                            \"hidden_dropout_rate\": [0],\n",
    "                                            \"hidden_batchnorm\": [True]}\n",
    "\n",
    "settings_dict[\"train_hyperparameter_grid\"] = {\"batch_size\": [32, 64, 128], \n",
    "                                              \"dataloader_shuffle\": [True],\n",
    "                                              \"dataloader_drop_last\":[True],\n",
    "                                              \"learning_rate\": [1e-2, 1e-3],\n",
    "                                              \"lr_lambda\": [lambda epoch: max(0.95**epoch, 1e-2), lambda epoch: max(0.99**epoch, 1e-2)],\n",
    "                                              \"weight_decay\": [0.1, 0.01],\n",
    "                                              \"num_epochs\": [500],\n",
    "                                              \"loss_function\": [nn.MSELoss()],\n",
    "                                              \"optimiser\": [torch.optim.AdamW],\n",
    "                                              \"performance_metrics\": [\"regression\"],\n",
    "                                              \"print_results_per_epochs\": [None]}"
   ]
  },
  {
   "cell_type": "code",
   "execution_count": null,
   "metadata": {},
   "outputs": [],
   "source": [
    "# kNN: hyperparameter- and random search settings\n",
    "\n",
    "settings_dict[\"j_splits\"] = 5\n",
    "settings_dict[\"h_iters\"] = 10\n",
    "settings_dict[\"random_search_scoring\"] = \"neg_mean_absolute_error\"\n",
    "settings_dict[\"random_search_verbose\"] = 1\n",
    "settings_dict[\"random_search_random_state\"] = 42\n",
    "settings_dict[\"random_search_n_jobs\"] = -1\n",
    "settings_dict[\"hyperparameter_grid\"] = {\"n_neighbors\": list(range(1, 101)),\n",
    "                                        \"weights\": [\"uniform\", \"distance\"],\n",
    "                                        \"p\": [1, 2, 3]}"
   ]
  },
  {
   "cell_type": "code",
   "execution_count": null,
   "metadata": {
    "id": "LVOMQzbwnJwq",
    "outputId": "192972eb-1dd8-4ca1-8e84-8e0a938e397e"
   },
   "outputs": [],
   "source": [
    "# model evaluation via m-times repeated k-fold cross validation\n",
    "start_time = time.time()\n",
    "\n",
    "# preallocate dictionary with cubic arrays used to save prediction values and performance scores over all m*k experiments\n",
    "scores_dict = create_scores_dict(k_splits = settings_dict[\"k_splits\"], \n",
    "                                 m_reps = settings_dict[\"m_reps\"], \n",
    "                                 len_y = settings_dict[\"n_molecules\"])\n",
    "\n",
    "# train and evaluate models\n",
    "for (m, k) in data_split_dictionary.keys():\n",
    "    \n",
    "    # extract indices for D_train and D_test for this data split\n",
    "    (ind_train_mols, ind_test_mols) = data_split_dictionary[(m,k)][0:2]\n",
    "    \n",
    "    # generate training- and test data (GNN + MLP)\n",
    "    graph_list_train = [graph_list[k] for k in ind_train_mols]\n",
    "    graph_list_test = [graph_list[k] for k in ind_test_mols]\n",
    "    \n",
    "    # find best hyperparameters via optuna and train associated model on training set (GNN + MLP)\n",
    "    (trained_best_gnn_model, \n",
    "     trained_best_mlp_model, \n",
    "     loss_curve_training_set) = train_gnn_mlps_via_optuna(graph_list_train,\n",
    "                                                          settings_dict[\"optuna_options\"],\n",
    "                                                          settings_dict[\"gin_hyperparameter_grid\"], \n",
    "                                                          settings_dict[\"mlp_hyperparameter_grid\"], \n",
    "                                                          settings_dict[\"train_hyperparameter_grid\"])\n",
    "    # plot learning curves (GNN + MLP)\n",
    "    plt.plot(loss_curve_training_set)\n",
    "    plt.title(\"loss curve on training set\")\n",
    "    plt.show()\n",
    "    \n",
    "    # extract learned features from molecular graphs via GNN\n",
    "    dataloader = GeometricDataLoader(dataset = graph_list, batch_size = len(graph_list), shuffle = False, drop_last = False)\n",
    "    trained_best_gnn_model.eval()\n",
    "    for batch in dataloader:\n",
    "        X_gnn = trained_best_gnn_model(batch.to('cuda' if torch.cuda.is_available() else 'cpu')).cpu().detach().numpy()\n",
    "           \n",
    "    # generate training- and test data       \n",
    "    X_gnn_train = X_gnn[ind_train_mols]\n",
    "    y_train = y[ind_train_mols]\n",
    "    \n",
    "    X_gnn_test = X_gnn[ind_test_mols]\n",
    "    y_test = y[ind_test_mols]\n",
    "    \n",
    "    # instantiate fresh model\n",
    "    regressor = RandomizedSearchCV(estimator = KNeighborsRegressor(),\n",
    "                                   param_distributions = settings_dict[\"hyperparameter_grid\"],\n",
    "                                   n_iter = settings_dict[\"h_iters\"],\n",
    "                                   cv = settings_dict[\"j_splits\"],\n",
    "                                   scoring = settings_dict[\"random_search_scoring\"],\n",
    "                                   verbose = settings_dict[\"random_search_verbose\"],\n",
    "                                   random_state = settings_dict[\"random_search_random_state\"],\n",
    "                                   n_jobs = settings_dict[\"random_search_n_jobs\"])\n",
    "\n",
    "    # fit the model on the training data\n",
    "    regressor.fit(X_gnn_train, y_train)\n",
    "    \n",
    "    # create qsar predictions used to evaluate the model\n",
    "    y_pred = regressor.predict(X_gnn)\n",
    "    create_and_store_qsar_ac_pd_results(scores_dict, x_smiles, X_smiles_mmps,\n",
    "                                        y, y_mmps, y_mmps_pd, y_pred,\n",
    "                                        data_split_dictionary, m, k)\n",
    "    \n",
    "    # give feedback on completion of this subexperiment\n",
    "    print(\"Subexperiment \", (m,k), \" completed. \\n\")\n",
    "\n",
    "# save experimental results\n",
    "save_qsar_ac_pd_results(filepath, scores_dict)\n",
    "\n",
    "# save experimental settings\n",
    "settings_dict[\"runtime\"] = str(time.strftime(\"%H:%M:%S\", time.gmtime(time.time() - start_time)))\n",
    "save_experimental_settings(filepath, settings_dict)"
   ]
  },
  {
   "cell_type": "code",
   "execution_count": null,
   "metadata": {
    "id": "83rJJtNXnJwr",
    "outputId": "c5c932f4-ebc0-4380-fd3d-d1691277f003"
   },
   "outputs": [],
   "source": [
    "# display experimental results and settings\n",
    "display_experimental_results(filepath, decimals = 4)"
   ]
  },
  {
   "cell_type": "markdown",
   "metadata": {
    "jp-MarkdownHeadingCollapsed": true,
    "tags": []
   },
   "source": [
    "## GIN + MLP"
   ]
  },
  {
   "cell_type": "code",
   "execution_count": null,
   "metadata": {
    "id": "PzP-ACRRnJwp"
   },
   "outputs": [],
   "source": [
    "# set directory for saving of experimental results\n",
    "\n",
    "settings_dict[\"method_name\"] = \"gin_mlp\"\n",
    "filepath = \"results/\" + settings_dict[\"target_name\"] + \"/\" + settings_dict[\"method_name\"] + \"/\""
   ]
  },
  {
   "cell_type": "code",
   "execution_count": null,
   "metadata": {
    "id": "_aQkXhCvnJwq"
   },
   "outputs": [],
   "source": [
    "# GNN + MLP: hyperparameter- and optuna settings\n",
    "\n",
    "settings_dict[\"optuna_options\"] = {\"h_iters\": 20,\n",
    "                                   \"frac_train\": 0.8,\n",
    "                                   \"data_splitting_seed\": 42,\n",
    "                                   \"performance_metric\": mean_absolute_error,\n",
    "                                   \"direction\": \"minimize\",\n",
    "                                   \"sampler\": optuna.samplers.TPESampler(), \n",
    "                                   \"pruner\": optuna.pruners.NopPruner()} \n",
    "\n",
    "settings_dict[\"gin_hyperparameter_grid\"] = {\"n_conv_layers\": [1, 2, 3],\n",
    "                                            \"input_dim\": [79],\n",
    "                                            \"hidden_dim\": [64, 128, 256],\n",
    "                                            \"mlp_n_hidden_layers\": [2],\n",
    "                                            \"mlp_hidden_activation\": [nn.ReLU()],\n",
    "                                            \"mlp_output_activation\": [nn.Identity()],\n",
    "                                            \"mlp_use_bias\": [True],\n",
    "                                            \"mlp_hidden_dropout_rate\": [0, 0.25],\n",
    "                                            \"mlp_hidden_batchnorm\": [True],\n",
    "                                            \"eps\": [0],\n",
    "                                            \"train_eps\": [False],\n",
    "                                            \"pooling_operation\": [global_max_pool]}\n",
    "\n",
    "settings_dict[\"mlp_hyperparameter_grid\"] = {\"architecture\": [arch(None, 1, w, d) for (w,d) in all_combs_list([None], [1, 5, 10])],\n",
    "                                            \"hidden_activation\": [nn.ReLU()],\n",
    "                                            \"output_activation\": [nn.Identity()],\n",
    "                                            \"use_bias\": [True],\n",
    "                                            \"hidden_dropout_rate\": [0],\n",
    "                                            \"hidden_batchnorm\": [True]}\n",
    "\n",
    "settings_dict[\"train_hyperparameter_grid\"] = {\"batch_size\": [32, 64, 128], \n",
    "                                              \"dataloader_shuffle\": [True],\n",
    "                                              \"dataloader_drop_last\":[True],\n",
    "                                              \"learning_rate\": [1e-2, 1e-3],\n",
    "                                              \"lr_lambda\": [lambda epoch: max(0.95**epoch, 1e-2), lambda epoch: max(0.99**epoch, 1e-2)],\n",
    "                                              \"weight_decay\": [0.1, 0.01],\n",
    "                                              \"num_epochs\": [500],\n",
    "                                              \"loss_function\": [nn.MSELoss()],\n",
    "                                              \"optimiser\": [torch.optim.AdamW],\n",
    "                                              \"performance_metrics\": [\"regression\"],\n",
    "                                              \"print_results_per_epochs\": [None]}"
   ]
  },
  {
   "cell_type": "code",
   "execution_count": null,
   "metadata": {
    "id": "LVOMQzbwnJwq",
    "outputId": "192972eb-1dd8-4ca1-8e84-8e0a938e397e"
   },
   "outputs": [],
   "source": [
    "# model evaluation via m-times repeated k-fold cross validation\n",
    "start_time = time.time()\n",
    "\n",
    "# preallocate dictionary with cubic arrays used to save prediction values and performance scores over all m*k experiments\n",
    "scores_dict = create_scores_dict(k_splits = settings_dict[\"k_splits\"], \n",
    "                                 m_reps = settings_dict[\"m_reps\"], \n",
    "                                 len_y = settings_dict[\"n_molecules\"])\n",
    "\n",
    "# train and evaluate models\n",
    "for (m, k) in data_split_dictionary.keys():\n",
    "    \n",
    "    # extract indices for D_train and D_test for this data split\n",
    "    (ind_train_mols, ind_test_mols) = data_split_dictionary[(m,k)][0:2]\n",
    "    \n",
    "    # generate training- and test data\n",
    "    graph_list_train = [graph_list[k] for k in ind_train_mols]\n",
    "    y_train = y[ind_train_mols]\n",
    "    \n",
    "    graph_list_test = [graph_list[k] for k in ind_test_mols]\n",
    "    y_test = y[ind_test_mols]\n",
    "    \n",
    "    # find best hyperparameters via optuna and train associated model on training set\n",
    "    (trained_best_gnn_model, \n",
    "     trained_best_mlp_model, \n",
    "     loss_curve_training_set) = train_gnn_mlps_via_optuna(graph_list_train,\n",
    "                                                          settings_dict[\"optuna_options\"],\n",
    "                                                          settings_dict[\"gin_hyperparameter_grid\"], \n",
    "                                                          settings_dict[\"mlp_hyperparameter_grid\"], \n",
    "                                                          settings_dict[\"train_hyperparameter_grid\"])\n",
    "    # plot learning curves\n",
    "    plt.plot(loss_curve_training_set)\n",
    "    plt.title(\"loss curve on training set\")\n",
    "    plt.show()\n",
    "    \n",
    "    # create qsar predictions used to evaluate the model\n",
    "    dataloader = GeometricDataLoader(dataset = graph_list, batch_size = len(graph_list), shuffle = False, drop_last = False)\n",
    "    trained_best_gnn_model.eval()\n",
    "    trained_best_mlp_model.eval()\n",
    "    for batch in dataloader:\n",
    "        y_pred = trained_best_mlp_model(trained_best_gnn_model(batch.to('cuda' if torch.cuda.is_available() else 'cpu'))).cpu().detach().numpy()[:,0]\n",
    "    \n",
    "    create_and_store_qsar_ac_pd_results(scores_dict, x_smiles, X_smiles_mmps,\n",
    "                                        y, y_mmps, y_mmps_pd, y_pred,\n",
    "                                        data_split_dictionary, m, k)\n",
    "    \n",
    "    # give feedback on completion of this subexperiment\n",
    "    print(\"Subexperiment \", (m,k), \" completed. \\n\")\n",
    "\n",
    "# save experimental results\n",
    "save_qsar_ac_pd_results(filepath, scores_dict)\n",
    "\n",
    "# save experimental settings\n",
    "settings_dict[\"runtime\"] = str(time.strftime(\"%H:%M:%S\", time.gmtime(time.time() - start_time)))\n",
    "save_experimental_settings(filepath, settings_dict)"
   ]
  },
  {
   "cell_type": "code",
   "execution_count": null,
   "metadata": {
    "id": "83rJJtNXnJwr",
    "outputId": "c5c932f4-ebc0-4380-fd3d-d1691277f003"
   },
   "outputs": [],
   "source": [
    "# display experimental results and settings\n",
    "display_experimental_results(filepath, decimals = 4)"
   ]
  },
  {
   "cell_type": "markdown",
   "metadata": {
    "jp-MarkdownHeadingCollapsed": true,
    "tags": []
   },
   "source": [
    "# Visual Data Analysis"
   ]
  },
  {
   "cell_type": "code",
   "execution_count": null,
   "metadata": {},
   "outputs": [],
   "source": [
    "# plot results\n",
    "\n",
    "# targets: chembl_dopamine_d2, chembl_factor_xa, postera_sars_cov_2_mpro\n",
    "# tasks: \"qsar_train\", \"qsar_test\", \"ac_train\", \"ac_inter\", \"ac_test\", \"ac_cores\", \"pd_train\", \"pd_inter\", \"pd_test\", \"pd_cores\", \"pd_ac_pos_train\", \"pd_ac_pos_inter\", \"pd_ac_pos_test\", \"pd_ac_pos_cores\"\n",
    "# regression metrics: \"MAE\", \"MedAE\", \"RMSE\", \"MaxAE\", \"MSE\", \"Pearson's r\", \"R^2\", \"Test Cases\"\n",
    "# classification metrics: \"AUROC\", \"Accuracy\", \"Balanced Accuracy\", \"F1-Score\", \"MCC\", \"Sensitivity\", \"Specificity\", \"Precision\", \"Negative Predictive Value\", \"Test Cases\", \"Negative Test Cases\", \"Positive Test Cases\" \n",
    "\n",
    "visualise_results(target = \"chembl_dopamine_d2\",\n",
    "                  task_x = \"ac_test\",\n",
    "                  metric_x = \"MCC\",\n",
    "                  task_y = \"qsar_test\",\n",
    "                  metric_y = \"MAE\",\n",
    "                  y_axis_units = \" (pK$_{\\mathrm{i}}$ units)\",\n",
    "                  plot_legend = True,\n",
    "                  legend_loc = \"upper right\",\n",
    "                  plot_title = True,\n",
    "                  plot_x_label = True,\n",
    "                  plot_y_label = True,\n",
    "                  plot_error_bars = True,\n",
    "                  size = 14, \n",
    "                  filepath_to_save = \"figures/scatter.svg\")"
   ]
  },
  {
   "cell_type": "code",
   "execution_count": null,
   "metadata": {},
   "outputs": [],
   "source": []
  }
 ],
 "metadata": {
  "accelerator": "GPU",
  "colab": {
   "collapsed_sections": [
    "kee2e-GFy3LW",
    "goBvy2nHSEbU",
    "UkiCM3e9Gd7O",
    "ZnOzpAwWGf6x",
    "RUdRr7rTSEc6",
    "7HanBbXV2txi"
   ],
   "name": "Colab_LMP_ChEMBL_hERG_data.ipynb",
   "provenance": []
  },
  "kernelspec": {
   "display_name": "Python 3 (ipykernel)",
   "language": "python",
   "name": "python3"
  },
  "language_info": {
   "codemirror_mode": {
    "name": "ipython",
    "version": 3
   },
   "file_extension": ".py",
   "mimetype": "text/x-python",
   "name": "python",
   "nbconvert_exporter": "python",
   "pygments_lexer": "ipython3",
   "version": "3.7.12"
  }
 },
 "nbformat": 4,
 "nbformat_minor": 4
}
